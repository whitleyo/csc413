{
 "cells": [
  {
   "cell_type": "markdown",
   "metadata": {
    "colab_type": "text",
    "id": "fr75-y9A4zcM"
   },
   "source": [
    "# Programming Assignment 1: Learning Distributed Word Representations\n",
    "Based on an assignment by George Dahl\n",
    "\n",
    "For CSC413/2516 in Winter 2020 with Professor Jimmy Ba\n",
    "\n",
    "**Submission:**\n",
    "You must submit two files through MarkUs: a PDF file containing your writeup, titled *a1-writeup.pdf*, and your code file *language_model.ipynb*. Your writeup must be typed.\n",
    "\n",
    "The programming assignments are individual work. See the Course Syllabus for detailed policies. \n",
    "\n",
    "**Introduction:**\n",
    "In this assignment we will learn about word embeddings and make neural networks learn about words.\n",
    "We could try to match statistics about the words, or we could train a network that takes a sequence of words as input and learns to predict the word that comes next.\n",
    "        \n",
    "This assignment will ask you to implement a linear embedding and then the backpropagation computations for a neural language model and then run some experiments to analyze the learned representation.\n",
    "The amount of code you have to write is very short but each line will require you to think very carefully.\n",
    "You will need to derive the updates mathematically, and then implement them using matrix and vector operations in NumPy."
   ]
  },
  {
   "cell_type": "markdown",
   "metadata": {
    "colab_type": "text",
    "id": "-UUSJPdr3Ge_"
   },
   "source": [
    "# Starter code and data\n",
    "\n",
    "Download and extract the archive from the course web page.\n",
    "Look at the file *raw_sentences.txt*.\n",
    "\n",
    "It contains the sentences that we will be using for this assignment.\n",
    "These sentences are fairly simple ones and cover a vocabulary of only 250 words.\n",
    "\n",
    "First, perform the required imports for your code:\n"
   ]
  },
  {
   "cell_type": "code",
   "execution_count": 1,
   "metadata": {
    "colab": {},
    "colab_type": "code",
    "id": "CRwuwhoJ3Knl"
   },
   "outputs": [],
   "source": [
    "import collections\n",
    "import pickle\n",
    "import numpy as np\n",
    "from tqdm import tqdm\n",
    "import pylab\n",
    "use_colab = False\n",
    "if use_colab:\n",
    "  from google.colab import drive\n",
    "\n",
    "TINY = 1e-30\n",
    "EPS = 1e-4\n",
    "nax = np.newaxis"
   ]
  },
  {
   "cell_type": "markdown",
   "metadata": {
    "colab_type": "text",
    "id": "qNLvRXdy3NDO"
   },
   "source": [
    "If you're using colaboratory, you can create a folder in your google drive - here we used 'CSC413_A1' - with the extracted contents of *a1-code.zip*.\n",
    "Then you can mount your drive to access the data.\n",
    "Feel free to use a different way to access the files *data.pk* and *partially_trained.pk*.\n",
    "You may have to use to enter an authorization code to mount your drive if you use the google drive to store the data.\n",
    "\n",
    "If you're not using colaboratory, then set the paths to wherever the extracted contents are.\n",
    "\n"
   ]
  },
  {
   "cell_type": "code",
   "execution_count": 2,
   "metadata": {
    "colab": {},
    "colab_type": "code",
    "id": "Gkug8am63SzY"
   },
   "outputs": [],
   "source": [
    "if use_colab:\n",
    "  drive_name = '/content/drive'\n",
    "  drive.mount(drive_name)\n",
    "  drive_413_A1_folder = 'CSC413_A1'\n",
    "  drive_location = drive_name + '/My Drive/' + drive_413_A1_folder  # Change this to where your files are located\n",
    "else:\n",
    "  # set the drive_location variable to whereever the extracted contents are.\n",
    "  drive_location = './'\n",
    "\n",
    "data_location = drive_location + '/' + 'data.pk'\n",
    "PARTIALLY_TRAINED_MODEL = drive_location + '/' + 'partially_trained.pk'"
   ]
  },
  {
   "cell_type": "markdown",
   "metadata": {
    "colab_type": "text",
    "id": "Qna9z_wJ3U5e"
   },
   "source": [
    "We have already extracted the 4-grams from this dataset and divided them into training, validation, and test sets.\n",
    "To inspect this data, run the following:"
   ]
  },
  {
   "cell_type": "code",
   "execution_count": 3,
   "metadata": {
    "colab": {},
    "colab_type": "code",
    "id": "RD1LN16d3a0u"
   },
   "outputs": [
    {
     "name": "stdout",
     "output_type": "stream",
     "text": [
      "all\n",
      "[[ 27  25  89]\n",
      " [183  43 248]\n",
      " [182  31  75]\n",
      " [116 246 200]\n",
      " [222 189 248]\n",
      " [ 41  73  25]\n",
      " [241  31 222]\n",
      " [222  31 157]\n",
      " [ 73  31 220]\n",
      " [ 41 191  90]]\n",
      "[143 116 121 185   5  31  31 143  31  67]\n"
     ]
    }
   ],
   "source": [
    "data = pickle.load(open(data_location, 'rb'))\n",
    "print(data['vocab'][0])\n",
    "print(data['train_inputs'][:10])\n",
    "print(data['train_targets'][:10])"
   ]
  },
  {
   "cell_type": "markdown",
   "metadata": {
    "colab_type": "text",
    "id": "lXd2Msqs3fPQ"
   },
   "source": [
    "Now *data* is a Python dict which contains the vocabulary, as well as the inputs and targets for all three splits of the data. *data*['vocab'] is a list of the 250 words in the dictionary; *data*['vocab'][0] is the word with index 0, and so on. *data*['train_inputs'] is a 372,500 x 3 matrix where each row gives the indices of the 3 context words for one of the 372,500 training cases.\n",
    "*data*['train_targets'] is a vector giving the index of the target word for each training case. The validation and test sets are handled analogously.\n",
    "\n",
    "Even though you only have to modify two specific locations in the code, you may want to read through this code before starting the assignment. "
   ]
  },
  {
   "cell_type": "markdown",
   "metadata": {
    "colab_type": "text",
    "id": "pa9ggqxJPPs0"
   },
   "source": [
    "# Part 1: GLoVE Word Representations (4pts)\n",
    "\n",
    "In this part of the assignment, you will implement a simplified version of the GLoVE embedding (please see the handout for detailed description of the algorithm) with the loss defined as\n",
    "\n",
    "$L(\\{\\mathbf{w}_i,b_i\\}_{i=1}^V) = \\sum_{i,j=1}^V (\\mathbf{w}_i^\\top\\mathbf{w}_j + b_i + b_j - \\log X_{ij})^2$.\n",
    "\n",
    "Note that each word is represented by a d-dimensional vector $\\mathbf{w}_i$ and a scalar bias $b_i$.\n",
    "\n",
    "We have provided a few functions for training the embedding:\n",
    "\n",
    "*   *calculate_log_co_occurence* computes the log co-occurrence matrix of a given corpus\n",
    "*   *train_GLoVE* runs momentum gradient descent to optimize the embedding\n",
    "*   *loss_GLoVE:* INPUT - $V\\times d$ matrix $W$ (collection of $V$ embedding vectors, each d-dimensional); $V\\times 1$ vector $\\mathbf{b}$ (collection of $V$ bias terms); $V \\times V$ log co-occurrence matrix. OUTPUT - loss of the GLoVE objective\n",
    "*   *grad_GLoVE:* INPUT - $V\\times d$ matrix $W$, $V\\times 1$ vector b, and $V\\times V$ log co-occurrence matrix. OUTPUT - $V\\times d$ matrix grad_W containing the gradient of the loss function w.r.t. $W$; $V\\times 1$ vector grad_b which is the gradient of the loss function w.r.t. $\\mathbf{b}$. TO BE IMPLEMENTED.\n",
    "\n",
    "Run the code to compute the co-occurence matrix.\n",
    "Make sure to add a 1 to the occurences, so there are no 0's in the matrix when we take the elementwise log of the matrix.\n"
   ]
  },
  {
   "cell_type": "code",
   "execution_count": 4,
   "metadata": {
    "colab": {},
    "colab_type": "code",
    "id": "kbYUnHGQNbgu"
   },
   "outputs": [],
   "source": [
    "vocab_size = 250\n",
    "\n",
    "def calculate_log_co_occurence(word_data):\n",
    "  \"Compute the log-co-occurence matrix for our data.\"\n",
    "  log_co_occurence = np.zeros((vocab_size, vocab_size))\n",
    "  for input in word_data:\n",
    "    log_co_occurence[input[0], input[1]] += 1\n",
    "    log_co_occurence[input[1], input[2]] += 1\n",
    "    # If we want symmetric co-occurence can also increment for these.\n",
    "    # Optional: How would you generalize the model if our target co-occurence isn't symmetric?\n",
    "    log_co_occurence[input[1], input[0]] += 1\n",
    "    log_co_occurence[input[2], input[1]] += 1\n",
    "  delta_smoothing = 0.5  # A hyperparameter.  You can play with this if you want.\n",
    "  log_co_occurence += delta_smoothing  # Add delta so log doesn't break on 0's.\n",
    "  log_co_occurence = np.log(log_co_occurence)\n",
    "  return log_co_occurence\n"
   ]
  },
  {
   "cell_type": "code",
   "execution_count": 5,
   "metadata": {
    "colab": {},
    "colab_type": "code",
    "id": "XsIN6RrwONPf"
   },
   "outputs": [],
   "source": [
    "log_co_occurence_train = calculate_log_co_occurence(data['train_inputs'])\n",
    "log_co_occurence_valid = calculate_log_co_occurence(data['valid_inputs'])"
   ]
  },
  {
   "cell_type": "markdown",
   "metadata": {
    "colab_type": "text",
    "id": "gNnKkMy-d2bB"
   },
   "source": [
    "TO BE IMPLEMENTED: calculate the gradient of the loss function w.r.t. the parameters $W$ and $\\mathbf{b}$. You should vectorize the computation, i.e. not loop over every word."
   ]
  },
  {
   "cell_type": "code",
   "execution_count": 6,
   "metadata": {
    "colab": {},
    "colab_type": "code",
    "id": "LbpkXeaAdwnj"
   },
   "outputs": [],
   "source": [
    "def loss_GLoVE(W, b, log_co_occurence):\n",
    "  \"Compute the GLoVE loss.\"\n",
    "  n,_ = log_co_occurence.shape\n",
    "  return np.sum((W @ W.T + b @ np.ones([1,n]) + np.ones([n,1])@b.T - log_co_occurence)**2)\n",
    "\n",
    "def grad_GLoVE(W,  b, log_co_occurence):\n",
    "    \"Return the gradient of GLoVE objective w.r.t W and b.\"\n",
    "    \"INPUT: W - Vxd; b - Vx1; log_co_occurence: VxV\"\n",
    "    \"OUTPUT: grad_W - Vxd; grad_b - Vx1\"\n",
    "    n,_ = log_co_occurence.shape\n",
    "    d = W.shape[1]\n",
    "    sqrt_loss_mat = (W @ W.T + b @ np.ones([1,n]) + np.ones([n,1])@b.T - log_co_occurence)\n",
    "    D = np.diagonal(sqrt_loss_mat).reshape(n, 1) @ np.ones([1, d])\n",
    "    # gradient Wi wrt Wi is 4*sqrt_loss_mat[i,i]*Wi\n",
    "    grad_W = 2 * sqrt_loss_mat @ W + 2 * D * W\n",
    "    grad_b = (2 * sqrt_loss_mat) @ np.ones([n, 1])\n",
    "    \n",
    "    return grad_W, grad_b\n",
    "\n",
    "def train_GLoVE(W, b, log_co_occurence_train, log_co_occurence_valid, n_epochs, do_print=False):\n",
    "  \"Traing W and b according to GLoVE objective.\"\n",
    "  n,_ = log_co_occurence_train.shape\n",
    "  learning_rate = 0.5 / n  # A hyperparameter.  You can play with this if you want.\n",
    "  for epoch in range(n_epochs):\n",
    "    grad_W, grad_b = grad_GLoVE(W, b, log_co_occurence_train)\n",
    "    W -= learning_rate * grad_W\n",
    "    b -= learning_rate * grad_b\n",
    "    train_loss, valid_loss = loss_GLoVE(W, b, log_co_occurence_train), loss_GLoVE(W, b, log_co_occurence_valid)\n",
    "    if do_print:\n",
    "      print(f\"Train Loss: {train_loss}, valid loss: {valid_loss}, grad_norm: {np.sum(grad_w**2)}\")\n",
    "  return W, b, train_loss, valid_loss"
   ]
  },
  {
   "cell_type": "markdown",
   "metadata": {
    "colab_type": "text",
    "id": "pjiNQ0WkWi1Z"
   },
   "source": [
    "Train the GLoVE model for a range of embedding dimensions"
   ]
  },
  {
   "cell_type": "code",
   "execution_count": 7,
   "metadata": {
    "colab": {},
    "colab_type": "code",
    "id": "46yGUezEMLJe"
   },
   "outputs": [
    {
     "name": "stderr",
     "output_type": "stream",
     "text": [
      "100%|██████████| 21/21 [00:28<00:00,  2.37s/it]\n"
     ]
    }
   ],
   "source": [
    "np.random.seed(1)\n",
    "n_epochs = 500  # A hyperparameter.  You can play with this if you want.\n",
    "embedding_dims = np.array([1,2,3,5,7,10,12,15,20,25,30,40,50, 75, 100, 125, 150, 175, 200, 225, 250])  # Play with this\n",
    "final_train_losses, final_val_losses = [], []  # Store the final losses for graphing\n",
    "W_final_2d, b_final_2d = None, None\n",
    "do_print = False  # If you want to see diagnostic information during training\n",
    "for embedding_dim in tqdm(embedding_dims):\n",
    "  init_variance = 0.1  # A hyperparameter.  You can play with this if you want. default = 0.1\n",
    "  W = init_variance * np.random.normal(size=(250, embedding_dim))\n",
    "  b = init_variance * np.random.normal(size=(250, 1))\n",
    "  if do_print:\n",
    "    print(f\"Training for embedding dimension: {embedding_dim}\")\n",
    "  W_final, b_final, train_loss, valid_loss = train_GLoVE(W, b, log_co_occurence_train, log_co_occurence_valid, n_epochs, do_print=do_print)\n",
    "  if embedding_dim == 2:\n",
    "    # Save a parameter copy if we are training 2d embedding for visualization later\n",
    "    W_final_2d = W_final\n",
    "    b_final_2d = b_final\n",
    "    \n",
    "  final_train_losses += [train_loss]\n",
    "  final_val_losses += [valid_loss]\n",
    "  if do_print:\n",
    "    print(f\"Final validation loss: {valid_loss}\")\n"
   ]
  },
  {
   "cell_type": "markdown",
   "metadata": {
    "colab_type": "text",
    "id": "hzV-qFf5WfAp"
   },
   "source": [
    "Plot the training and validation losses against the embedding dimension."
   ]
  },
  {
   "cell_type": "code",
   "execution_count": 8,
   "metadata": {
    "colab": {},
    "colab_type": "code",
    "id": "WHgHgSzJTg5d"
   },
   "outputs": [
    {
     "name": "stderr",
     "output_type": "stream",
     "text": [
      "No handles with labels found to put in legend.\n"
     ]
    },
    {
     "data": {
      "text/plain": [
       "<matplotlib.legend.Legend at 0x7f0930046c18>"
      ]
     },
     "execution_count": 8,
     "metadata": {},
     "output_type": "execute_result"
    },
    {
     "data": {
      "image/png": "[encoded data removed]",
      "text/plain": [
       "<Figure size 432x288 with 1 Axes>"
      ]
     },
     "metadata": {
      "needs_background": "light"
     },
     "output_type": "display_data"
    }
   ],
   "source": [
    "pylab.loglog(embedding_dims, final_train_losses)\n",
    "pylab.xlabel(\"Embedding Dimension\")\n",
    "pylab.ylabel(\"Training Loss\")\n",
    "pylab.legend()"
   ]
  },
  {
   "cell_type": "code",
   "execution_count": 9,
   "metadata": {
    "colab": {},
    "colab_type": "code",
    "id": "0UJSfg_hfvIV"
   },
   "outputs": [
    {
     "name": "stderr",
     "output_type": "stream",
     "text": [
      "No handles with labels found to put in legend.\n"
     ]
    },
    {
     "data": {
      "text/plain": [
       "<matplotlib.legend.Legend at 0x7f09079b8208>"
      ]
     },
     "execution_count": 9,
     "metadata": {},
     "output_type": "execute_result"
    },
    {
     "data": {
      "image/png": "[encoded data removed]",
      "text/plain": [
       "<Figure size 432x288 with 1 Axes>"
      ]
     },
     "metadata": {
      "needs_background": "light"
     },
     "output_type": "display_data"
    }
   ],
   "source": [
    "pylab.loglog(embedding_dims, final_val_losses)\n",
    "pylab.xlabel(\"Embedding Dimension\")\n",
    "pylab.ylabel(\"Validation Loss\")\n",
    "pylab.legend()"
   ]
  },
  {
   "cell_type": "code",
   "execution_count": 10,
   "metadata": {},
   "outputs": [
    {
     "data": {
      "text/plain": [
       "[69625.1744167222,\n",
       " 68155.65442572965,\n",
       " 68001.41646630612,\n",
       " 67577.04242143701,\n",
       " 67015.08110418473,\n",
       " 66539.7886211864,\n",
       " 66171.47647102873,\n",
       " 66342.59578148651,\n",
       " 66490.4511118977,\n",
       " 66529.05743869224,\n",
       " 66553.68788676421,\n",
       " 66493.86907946934,\n",
       " 66390.50744636556,\n",
       " 66084.22697789974,\n",
       " 65962.43022731869,\n",
       " 66042.27955690875,\n",
       " 65962.80741734042,\n",
       " 65963.22900577175,\n",
       " 65946.47102981019,\n",
       " 65961.72314190336,\n",
       " 65942.8186296791]"
      ]
     },
     "execution_count": 10,
     "metadata": {},
     "output_type": "execute_result"
    }
   ],
   "source": [
    "final_val_losses"
   ]
  },
  {
   "cell_type": "code",
   "execution_count": 11,
   "metadata": {},
   "outputs": [
    {
     "data": {
      "text/plain": [
       "(250, 250)"
      ]
     },
     "execution_count": 11,
     "metadata": {},
     "output_type": "execute_result"
    }
   ],
   "source": [
    "log_co_occurence_valid.shape"
   ]
  },
  {
   "cell_type": "code",
   "execution_count": 12,
   "metadata": {},
   "outputs": [
    {
     "data": {
      "text/plain": [
       "(372500, 3)"
      ]
     },
     "execution_count": 12,
     "metadata": {},
     "output_type": "execute_result"
    }
   ],
   "source": [
    "data['train_inputs'].shape"
   ]
  },
  {
   "cell_type": "code",
   "execution_count": 13,
   "metadata": {},
   "outputs": [
    {
     "data": {
      "text/plain": [
       "(46500, 3)"
      ]
     },
     "execution_count": 13,
     "metadata": {},
     "output_type": "execute_result"
    }
   ],
   "source": [
    "data['valid_inputs'].shape"
   ]
  },
  {
   "cell_type": "code",
   "execution_count": 14,
   "metadata": {},
   "outputs": [
    {
     "data": {
      "text/plain": [
       "array([[ 27,  25,  89],\n",
       "       [183,  43, 248],\n",
       "       [182,  31,  75],\n",
       "       [116, 246, 200],\n",
       "       [222, 189, 248],\n",
       "       [ 41,  73,  25],\n",
       "       [241,  31, 222],\n",
       "       [222,  31, 157],\n",
       "       [ 73,  31, 220],\n",
       "       [ 41, 191,  90]], dtype=int32)"
      ]
     },
     "execution_count": 14,
     "metadata": {},
     "output_type": "execute_result"
    }
   ],
   "source": [
    "data['train_inputs'][0:10]"
   ]
  },
  {
   "cell_type": "markdown",
   "metadata": {
    "colab_type": "text",
    "id": "Xo1R6rfP4aJQ"
   },
   "source": [
    "Answer the following questions:\n",
    "\n",
    "1.  Given the vocabulary size $V$ and embedding dimensionality $d$, how many parameters does the GLoVE model have?\n",
    "2.  Write the gradient of the loss function with respect to one parameter vector $\\mathbf{w}_i$.\n",
    "3.  Implement the gradient update of GLoVE.\n",
    "4.  Train the model with varying dimensionality $d$.\n",
    "Which $d$ leads to optimal validation performance?\n",
    "Why does / doesn't larger $d$ always lead to better validation error?\n"
   ]
  },
  {
   "cell_type": "markdown",
   "metadata": {},
   "source": [
    "1. V x d + V\n",
    "2. $$\\nabla_w \\textbf{L} = (\\sum_{j != i}^{V} 2*(w_i^\\intercal * w_j + b_i + b_j -log X_{ij} * )w_j) + 4(w_i^\\intercal * w_i + 2*b_i - log X_{ii})*w_i$$\n",
    "3. See code above in grad_GLoVE\n",
    "4. It seems that an optimum  is reached at about 10, after which validation error increases, then decreases again. It may be the case that overfitting starts occuring after a dimension of 10 is reached but this is compensated for by dimensions close to the vocabulary size effectively memorizing co-occurence relationships without losing information to compressing the data to a strongly reduced dimension. So after 10, the amount of info gained per dimension is not enough to compensate for overfitting to the dataset, while after about 200, the parameters may be coming close to effectively copying the co-occurence matrix. Given that the co-occurence matrix represents an estimate of expected values for co-occurence, provided large enough training and validation sets, the matrix values should be reasonably close.\n"
   ]
  },
  {
   "cell_type": "markdown",
   "metadata": {
    "colab_type": "text",
    "id": "7YwDZcOhjywe"
   },
   "source": [
    "# Part 2: Network Architecture (2pts)\n",
    "See the handout for the written questions in this part."
   ]
  },
  {
   "cell_type": "markdown",
   "metadata": {},
   "source": [
    "Questions are abridged from text in handout\n",
    "\n",
    "   1. What is the total number of trainable parameters in the model? Which part of the model has the\n",
    "largest number of trainable parameters?\n",
    "  \n",
    "     $250*16$ params for $R$ (word to embedding matrix) = $4000$ params\n",
    "  \n",
    "     $16*3*128$ = $6144$ params for $W^{(2)}$ (matrix linking embeddings to logistic function that outputs hidden layer) \n",
    "     \n",
    "     $b^{(2)}$ (bias for logistic function outputting hidden layer) has $128$ params\n",
    "     \n",
    "     $W^{(3)}$ (matrix linking hidden layer to softmax) has $128*250$ = $32,000$ params\n",
    "     \n",
    "     $b^{(3)}$ (bias for softmax) has $250$ params\n",
    "     \n",
    "     By far, $W^{(3)}$ has most params. total params = $42522$\n",
    "     \n",
    "     \n",
    "     \n",
    "     \n",
    "   2. If we wanted to use an n-gram model with the same context length as our network,\n",
    "we’d need to store the counts of all possible 4-grams. If we stored all the counts explicitly,\n",
    "how many entries would this table have? \n",
    "\n",
    "250^4 = 10^9.59 params\n",
    "     "
   ]
  },
  {
   "cell_type": "code",
   "execution_count": 15,
   "metadata": {},
   "outputs": [
    {
     "data": {
      "text/plain": [
       "9.59176003468815"
      ]
     },
     "execution_count": 15,
     "metadata": {},
     "output_type": "execute_result"
    }
   ],
   "source": [
    "4000 + 6144 +128 + 32000 + 250\n",
    "np.log10(np.power(250, 4))"
   ]
  },
  {
   "cell_type": "markdown",
   "metadata": {
    "colab_type": "text",
    "id": "C8FZTyrzlCNl"
   },
   "source": [
    "# Part 3: Training the model (4pts)\n",
    "\n",
    "There are three classes defined in this *part*: *Params*, *Activations*, *Model*.\n",
    "You will make changes to *Model*, but it may help to read through *Params* and *Activations* first."
   ]
  },
  {
   "cell_type": "code",
   "execution_count": 16,
   "metadata": {
    "colab": {},
    "colab_type": "code",
    "id": "EfGEjB3QLNXf"
   },
   "outputs": [],
   "source": [
    "class Params(object):\n",
    "    \"\"\"A class representing the trainable parameters of the model. This class has five fields:\n",
    "    \n",
    "           word_embedding_weights, a matrix of size N_V x D, where N_V is the number of words in the vocabulary\n",
    "                   and D is the embedding dimension.\n",
    "           embed_to_hid_weights, a matrix of size N_H x 3D, where N_H is the number of hidden units. The first D\n",
    "                   columns represent connections from the embedding of the first context word, the next D columns\n",
    "                   for the second context word, and so on.\n",
    "           hid_bias, a vector of length N_H\n",
    "           hid_to_output_weights, a matrix of size N_V x N_H\n",
    "           output_bias, a vector of length N_V\"\"\"\n",
    "\n",
    "    def __init__(self, word_embedding_weights, embed_to_hid_weights, hid_to_output_weights,\n",
    "                 hid_bias, output_bias):\n",
    "        self.word_embedding_weights = word_embedding_weights\n",
    "        self.embed_to_hid_weights = embed_to_hid_weights\n",
    "        self.hid_to_output_weights = hid_to_output_weights\n",
    "        self.hid_bias = hid_bias\n",
    "        self.output_bias = output_bias\n",
    "\n",
    "    def copy(self):\n",
    "        return self.__class__(self.word_embedding_weights.copy(), self.embed_to_hid_weights.copy(),\n",
    "                              self.hid_to_output_weights.copy(), self.hid_bias.copy(), self.output_bias.copy())\n",
    "\n",
    "    @classmethod\n",
    "    def zeros(cls, vocab_size, context_len, embedding_dim, num_hid):\n",
    "        \"\"\"A constructor which initializes all weights and biases to 0.\"\"\"\n",
    "        word_embedding_weights = np.zeros((vocab_size, embedding_dim))\n",
    "        embed_to_hid_weights = np.zeros((num_hid, context_len * embedding_dim))\n",
    "        hid_to_output_weights = np.zeros((vocab_size, num_hid))\n",
    "        hid_bias = np.zeros(num_hid)\n",
    "        output_bias = np.zeros(vocab_size)\n",
    "        return cls(word_embedding_weights, embed_to_hid_weights, hid_to_output_weights,\n",
    "                   hid_bias, output_bias)\n",
    "\n",
    "    @classmethod\n",
    "    def random_init(cls, init_wt, vocab_size, context_len, embedding_dim, num_hid):\n",
    "        \"\"\"A constructor which initializes weights to small random values and biases to 0.\"\"\"\n",
    "        word_embedding_weights = np.random.normal(0., init_wt, size=(vocab_size, embedding_dim))\n",
    "        embed_to_hid_weights = np.random.normal(0., init_wt, size=(num_hid, context_len * embedding_dim))\n",
    "        hid_to_output_weights = np.random.normal(0., init_wt, size=(vocab_size, num_hid))\n",
    "        hid_bias = np.zeros(num_hid)\n",
    "        output_bias = np.zeros(vocab_size)\n",
    "        return cls(word_embedding_weights, embed_to_hid_weights, hid_to_output_weights,\n",
    "                   hid_bias, output_bias)\n",
    "\n",
    "    ###### The functions below are Python's somewhat oddball way of overloading operators, so that\n",
    "    ###### we can do arithmetic on Params instances. You don't need to understand this to do the assignment.\n",
    "\n",
    "    def __mul__(self, a):\n",
    "        return self.__class__(a * self.word_embedding_weights,\n",
    "                              a * self.embed_to_hid_weights,\n",
    "                              a * self.hid_to_output_weights,\n",
    "                              a * self.hid_bias,\n",
    "                              a * self.output_bias)\n",
    "\n",
    "    def __rmul__(self, a):\n",
    "        return self * a\n",
    "\n",
    "    def __add__(self, other):\n",
    "        return self.__class__(self.word_embedding_weights + other.word_embedding_weights,\n",
    "                              self.embed_to_hid_weights + other.embed_to_hid_weights,\n",
    "                              self.hid_to_output_weights + other.hid_to_output_weights,\n",
    "                              self.hid_bias + other.hid_bias,\n",
    "                              self.output_bias + other.output_bias)\n",
    "\n",
    "    def __sub__(self, other):\n",
    "        return self + -1. * other"
   ]
  },
  {
   "cell_type": "code",
   "execution_count": 17,
   "metadata": {
    "colab": {},
    "colab_type": "code",
    "id": "k6XFQUPsLSi7"
   },
   "outputs": [],
   "source": [
    "class Activations(object):\n",
    "    \"\"\"A class representing the activations of the units in the network. This class has three fields:\n",
    "\n",
    "        embedding_layer, a matrix of B x 3D matrix (where B is the batch size and D is the embedding dimension),\n",
    "                representing the activations for the embedding layer on all the cases in a batch. The first D\n",
    "                columns represent the embeddings for the first context word, and so on.\n",
    "        hidden_layer, a B x N_H matrix representing the hidden layer activations for a batch\n",
    "        output_layer, a B x N_V matrix representing the output layer activations for a batch\"\"\"\n",
    "\n",
    "    def __init__(self, embedding_layer, hidden_layer, output_layer):\n",
    "        self.embedding_layer = embedding_layer\n",
    "        self.hidden_layer = hidden_layer\n",
    "        self.output_layer = output_layer\n",
    "\n",
    "def get_batches(inputs, targets, batch_size, shuffle=True):\n",
    "    \"\"\"Divide a dataset (usually the training set) into mini-batches of a given size. This is a\n",
    "    'generator', i.e. something you can use in a for loop. You don't need to understand how it\n",
    "    works to do the assignment.\"\"\"\n",
    "\n",
    "    if inputs.shape[0] % batch_size != 0:\n",
    "        raise RuntimeError('The number of data points must be a multiple of the batch size.')\n",
    "    num_batches = inputs.shape[0] // batch_size\n",
    "\n",
    "    if shuffle:\n",
    "        idxs = np.random.permutation(inputs.shape[0])\n",
    "        inputs = inputs[idxs, :]\n",
    "        targets = targets[idxs]\n",
    "\n",
    "    for m in range(num_batches):\n",
    "        yield inputs[m * batch_size:(m + 1) * batch_size, :], \\\n",
    "              targets[m * batch_size:(m + 1) * batch_size]"
   ]
  },
  {
   "cell_type": "markdown",
   "metadata": {
    "colab_type": "text",
    "id": "uuAXaDNll0lf"
   },
   "source": [
    "In this part of the assignment, you implement a method which computes the gradient using backpropagation.\n",
    "To start you out, the *Model* class contains several important methods used in training:\n",
    "\n",
    "\n",
    "*   *compute_activations* computes the activations of all units on a given input batch\n",
    "*   *compute_loss* computes the total cross-entropy loss on a mini-batch\n",
    "*   *evaluate* computes the average cross-entropy loss for a given set of inputs and targets\n",
    "\n",
    "You will need to complete the implementation of two additional methods which are needed for training:\n",
    "\n",
    "\n",
    "*   *compute_loss_derivative* computes the derivative of the loss function with respect to the output layer inputs.\n",
    "*   *back_propagate* is the function which computes the gradient of the loss with respect to model parameters using backpropagation.\n",
    "It uses the derivatives computed by *compute_loss_derivative*.\n",
    "Some parts are already filled in for you, but you need to compute the matrices of derivatives for *embed_to_hid_weights*, *hid_bias*, *hid_to_output_weights*, and *output_bias*.\n",
    "These matrices have the same sizes as the parameter matrices (see previous section).\n",
    "\n",
    "In order to implement backpropagation efficiently, you need to express the computations in terms of matrix operations, rather than *for* loops.\n",
    "You should first work through the derivatives on pencil and paper.\n",
    "First, apply the chain rule to compute the derivatives with respect to individual units, weights, and biases.\n",
    "Next, take the formulas you've derived, and express them in matrix form.\n",
    "You should be able to express all of the required computations using only matrix multiplication, matrix transpose, and elementwise operations --- no *for* loops!\n",
    "If you want inspiration, read through the code for *Model.compute_activations* and try to understand how the matrix operations correspond to the computations performed by all the units in the network.\n",
    "        \n",
    "To make your life easier, we have provided the routine *checking.check_gradients*, which checks your gradients using finite differences.\n",
    "You should make sure this check passes before continuing with the assignment.\n",
    "\n",
    "\n",
    "\n"
   ]
  },
  {
   "cell_type": "code",
   "execution_count": 18,
   "metadata": {
    "colab": {},
    "colab_type": "code",
    "id": "0F4CTBipK9B6"
   },
   "outputs": [],
   "source": [
    "class Model(object):\n",
    "    \"\"\"A class representing the language model itself. This class contains various methods used in training\n",
    "    the model and visualizing the learned representations. It has two fields:\n",
    "    \n",
    "    params, a Params instance which contains the model parameters\n",
    "    vocab, a list containing all the words in the dictionary; vocab[0] is the word with index\n",
    "    0, and so on.\"\"\"\n",
    "\n",
    "    def __init__(self, params, vocab):\n",
    "        self.params = params\n",
    "        self.vocab = vocab\n",
    "\n",
    "        self.vocab_size = len(vocab)\n",
    "        self.embedding_dim = self.params.word_embedding_weights.shape[1]\n",
    "        self.embedding_layer_dim = self.params.embed_to_hid_weights.shape[1]\n",
    "        self.context_len = self.embedding_layer_dim // self.embedding_dim\n",
    "        self.num_hid = self.params.embed_to_hid_weights.shape[0]\n",
    "\n",
    "    def copy(self):\n",
    "        return self.__class__(self.params.copy(), self.vocab[:])\n",
    "\n",
    "    @classmethod\n",
    "    def random_init(cls, init_wt, vocab, context_len, embedding_dim, num_hid):\n",
    "        \"\"\"Constructor which randomly initializes the weights to Gaussians with standard deviation init_wt\n",
    "        and initializes the biases to all zeros.\"\"\"\n",
    "        params = Params.random_init(init_wt, len(vocab), context_len, embedding_dim, num_hid)\n",
    "        return Model(params, vocab)\n",
    "\n",
    "    def indicator_matrix(self, targets):\n",
    "        \"\"\"Construct a matrix where the kth entry of row i is 1 if the target for example\n",
    "        i is k, and all other entries are 0.\"\"\"\n",
    "        batch_size = targets.size\n",
    "        expanded_targets = np.zeros((batch_size, len(self.vocab)))\n",
    "        expanded_targets[np.arange(batch_size), targets] = 1.\n",
    "        return expanded_targets\n",
    "\n",
    "    def compute_loss_derivative(self, output_activations, expanded_target_batch):\n",
    "        \"\"\"Compute the derivative of the cross-entropy loss function with respect to the inputs\n",
    "        to the output units. In particular, the output layer computes the softmax\n",
    "\n",
    "            y_i = e^{z_i} / \\sum_j e^{z_j}.\n",
    "\n",
    "        This function should return a batch_size x vocab_size matrix, where the (i, j) entry\n",
    "        is dC / dz_j computed for the ith training case, where C is the loss function\n",
    "\n",
    "            C = -sum(t_i log y_i).\n",
    "\n",
    "        The arguments are as follows:\n",
    "\n",
    "            output_activations - the activations of the output layer, i.e. the y_i's.\n",
    "            expanded_target_batch - each row is the indicator vector for a target word,\n",
    "                i.e. the (i, j) entry is 1 if the i'th word is j, and 0 otherwise.\"\"\"\n",
    "        # loss derivative is Y - T, where Y = softmax outputs, T = targets\n",
    "        loss_derivative = output_activations - expanded_target_batch\n",
    "        return loss_derivative\n",
    "\n",
    "    def compute_loss(self, output_activations, expanded_target_batch):\n",
    "        \"\"\"Compute the total loss over a mini-batch. expanded_target_batch is the matrix obtained\n",
    "        by calling indicator_matrix on the targets for the batch.\"\"\"\n",
    "        return -np.sum(expanded_target_batch * np.log(output_activations + TINY))\n",
    "\n",
    "    def compute_activations(self, inputs):\n",
    "        \"\"\"Compute the activations on a batch given the inputs. Returns an Activations instance.\n",
    "        You should try to read and understand this function, since this will give you clues for\n",
    "        how to implement back_propagate.\"\"\"\n",
    "\n",
    "        batch_size = inputs.shape[0]\n",
    "        if inputs.shape[1] != self.context_len:\n",
    "            raise RuntimeError('Dimension of the input vectors should be {}, but is instead {}'.format(\n",
    "                self.context_len, inputs.shape[1]))\n",
    "\n",
    "        # Embedding layer\n",
    "        # Look up the input word indies in the word_embedding_weights matrix\n",
    "        embedding_layer_state = np.zeros((batch_size, self.embedding_layer_dim))\n",
    "        for i in range(self.context_len):\n",
    "            embedding_layer_state[:, i * self.embedding_dim:(i + 1) * self.embedding_dim] = \\\n",
    "                self.params.word_embedding_weights[inputs[:, i], :]\n",
    "\n",
    "        # Hidden layer\n",
    "        inputs_to_hid = np.dot(embedding_layer_state, self.params.embed_to_hid_weights.T) + \\\n",
    "                        self.params.hid_bias\n",
    "        # Apply logistic activation function\n",
    "        hidden_layer_state = 1. / (1. + np.exp(-inputs_to_hid))\n",
    "\n",
    "        # Output layer\n",
    "        inputs_to_softmax = np.dot(hidden_layer_state, self.params.hid_to_output_weights.T) + \\\n",
    "                            self.params.output_bias\n",
    "\n",
    "        # Subtract maximum.\n",
    "        # Remember that adding or subtracting the same constant from each input to a\n",
    "        # softmax unit does not affect the outputs. So subtract the maximum to\n",
    "        # make all inputs <= 0. This prevents overflows when computing their exponents.\n",
    "        inputs_to_softmax -= inputs_to_softmax.max(1).reshape((-1, 1))\n",
    "\n",
    "        output_layer_state = np.exp(inputs_to_softmax)\n",
    "        output_layer_state /= output_layer_state.sum(1).reshape((-1, 1))\n",
    "\n",
    "        return Activations(embedding_layer_state, hidden_layer_state, output_layer_state)\n",
    "\n",
    "    def back_propagate(self, input_batch, activations, loss_derivative):\n",
    "        \"\"\"Compute the gradient of the loss function with respect to the trainable parameters\n",
    "        of the model. The arguments are as follows:\n",
    "\n",
    "             input_batch - the indices of the context words\n",
    "             activations - an Activations class representing the output of Model.compute_activations\n",
    "             loss_derivative - the matrix of derivatives computed by compute_loss_derivative\n",
    "             \n",
    "        Part of this function is already completed, but you need to fill in the derivative\n",
    "        computations for hid_to_output_weights_grad, output_bias_grad, embed_to_hid_weights_grad,\n",
    "        and hid_bias_grad. See the documentation for the Params class for a description of what\n",
    "        these matrices represent.\"\"\"\n",
    "\n",
    "        # The matrix with values dC / dz_j, where dz_j is the input to the jth hidden unit,\n",
    "        # i.e. y_j = 1 / (1 + e^{-z_j})\n",
    "        hid_deriv = np.dot(loss_derivative, self.params.hid_to_output_weights) \\\n",
    "                    * activations.hidden_layer * (1. - activations.hidden_layer)\n",
    "        # dC/dW(3) = dZ'.t @ H, Z' = inputs to softmax, H = hidden layer, W(3) = hid to output weights\n",
    "        hid_to_output_weights_grad = loss_derivative.T @ activations.hidden_layer\n",
    "        # dC/db(3) = dZ'.t @ 1, b(3) = hid to output bias\n",
    "        output_bias_grad = loss_derivative.T @ np.ones([loss_derivative.shape[0], 1])\n",
    "        output_bias_grad = output_bias_grad.flatten()\n",
    "        # dC/dW(2) = dZ.t @ E, W(2) = embedding to hidden weights, E = embeddings, Z = hidden layer\n",
    "        # activation (logistic) input\n",
    "        embed_to_hid_weights_grad = hid_deriv.T @ activations.embedding_layer\n",
    "        # dC/db(2) = dZ.T @ 1, b(2) = embedding to hidden bias\n",
    "        hid_bias_grad = hid_deriv.T @ np.ones([hid_deriv.shape[0], 1])\n",
    "        hid_bias_grad = hid_bias_grad.flatten()\n",
    "        # below: dC/dE = dZ @ W(2)\n",
    "        # The matrix of derivatives for the embedding layer\n",
    "        embed_deriv = np.dot(hid_deriv, self.params.embed_to_hid_weights)\n",
    "\n",
    "        # Embedding layer\n",
    "        word_embedding_weights_grad = np.zeros((self.vocab_size, self.embedding_dim))\n",
    "        for w in range(self.context_len):\n",
    "            word_embedding_weights_grad += np.dot(self.indicator_matrix(input_batch[:, w]).T,\n",
    "                                                  embed_deriv[:, w * self.embedding_dim:(w + 1) * self.embedding_dim])\n",
    "\n",
    "        return Params(word_embedding_weights_grad, embed_to_hid_weights_grad, hid_to_output_weights_grad,\n",
    "                      hid_bias_grad, output_bias_grad)\n",
    "\n",
    "    def evaluate(self, inputs, targets, batch_size=100):\n",
    "        \"\"\"Compute the average cross-entropy over a dataset.\n",
    "\n",
    "            inputs: matrix of shape D x N\n",
    "            targets: one-dimensional matrix of length N\"\"\"\n",
    "\n",
    "        ndata = inputs.shape[0]\n",
    "\n",
    "        total = 0.\n",
    "        for input_batch, target_batch in get_batches(inputs, targets, batch_size):\n",
    "            activations = self.compute_activations(input_batch)\n",
    "            expanded_target_batch = self.indicator_matrix(target_batch)\n",
    "            cross_entropy = -np.sum(expanded_target_batch * np.log(activations.output_layer + TINY))\n",
    "            total += cross_entropy\n",
    "\n",
    "        return total / float(ndata)\n",
    "\n",
    "    def display_nearest_words(self, word, k=10):\n",
    "        \"\"\"List the k words nearest to a given word, along with their distances.\"\"\"\n",
    "\n",
    "        if word not in self.vocab:\n",
    "            print('Word \"{}\" not in vocabulary.'.format(word))\n",
    "            return\n",
    "\n",
    "        # Compute distance to every other word.\n",
    "        idx = self.vocab.index(word)\n",
    "        word_rep = self.params.word_embedding_weights[idx, :]\n",
    "        diff = self.params.word_embedding_weights - word_rep.reshape((1, -1))\n",
    "        distance = np.sqrt(np.sum(diff ** 2, axis=1))\n",
    "\n",
    "        # Sort by distance.\n",
    "        order = np.argsort(distance)\n",
    "        order = order[1:1 + k]  # The nearest word is the query word itself, skip that.\n",
    "        for i in order:\n",
    "            print('{}: {}'.format(self.vocab[i], distance[i]))\n",
    "\n",
    "    def predict_next_word(self, word1, word2, word3, k=10):\n",
    "        \"\"\"List the top k predictions for the next word along with their probabilities.\n",
    "        Inputs:\n",
    "            word1: The first word as a string.\n",
    "            word2: The second word as a string.\n",
    "            word3: The third word as a string.\n",
    "            k: The k most probable predictions are shown.\n",
    "        Example usage:\n",
    "            model.predict_next_word('john', 'might', 'be', 3)\n",
    "            model.predict_next_word('life', 'in', 'new', 3)\"\"\"\n",
    "\n",
    "        if word1 not in self.vocab:\n",
    "            raise RuntimeError('Word \"{}\" not in vocabulary.'.format(word1))\n",
    "        if word2 not in self.vocab:\n",
    "            raise RuntimeError('Word \"{}\" not in vocabulary.'.format(word2))\n",
    "        if word3 not in self.vocab:\n",
    "            raise RuntimeError('Word \"{}\" not in vocabulary.'.format(word3))\n",
    "\n",
    "        idx1, idx2, idx3 = self.vocab.index(word1), self.vocab.index(word2), self.vocab.index(word3)\n",
    "        input = np.array([idx1, idx2, idx3]).reshape((1, -1))\n",
    "        activations = self.compute_activations(input)\n",
    "        prob = activations.output_layer.ravel()\n",
    "        idxs = np.argsort(prob)[::-1]  # sort descending\n",
    "        for i in idxs[:k]:\n",
    "            print('{} {} {} {} Prob: {:1.5f}'.format(word1, word2, word3, self.vocab[i], prob[i]))\n",
    "\n",
    "    def word_distance(self, word1, word2):\n",
    "        \"\"\"Compute the distance between the vector representations of two words.\"\"\"\n",
    "\n",
    "        if word1 not in self.vocab:\n",
    "            raise RuntimeError('Word \"{}\" not in vocabulary.'.format(word1))\n",
    "        if word2 not in self.vocab:\n",
    "            raise RuntimeError('Word \"{}\" not in vocabulary.'.format(word2))\n",
    "\n",
    "        idx1, idx2 = self.vocab.index(word1), self.vocab.index(word2)\n",
    "        word_rep1 = self.params.word_embedding_weights[idx1, :]\n",
    "        word_rep2 = self.params.word_embedding_weights[idx2, :]\n",
    "        diff = word_rep1 - word_rep2\n",
    "        return np.sqrt(np.sum(diff ** 2))"
   ]
  },
  {
   "cell_type": "markdown",
   "metadata": {
    "colab_type": "text",
    "id": "JbwZCTkboEhz"
   },
   "source": [
    "To make your life easier, we have provided the routine *checking.check_gradients*, which checks your gradients using finite differences.\n",
    "You should make sure this check passes before continuing with the assignment."
   ]
  },
  {
   "cell_type": "code",
   "execution_count": 19,
   "metadata": {
    "colab": {},
    "colab_type": "code",
    "id": "B5soRTiRn6W4"
   },
   "outputs": [],
   "source": [
    "def relative_error(a, b):\n",
    "    return np.abs(a - b) / (np.abs(a) + np.abs(b))\n",
    "\n",
    "\n",
    "def check_output_derivatives(model, input_batch, target_batch):\n",
    "    def softmax(z):\n",
    "        z = z.copy()\n",
    "        z -= z.max(1).reshape((-1, 1))\n",
    "        y = np.exp(z)\n",
    "        y /= y.sum(1).reshape((-1, 1))\n",
    "        return y\n",
    "\n",
    "    batch_size = input_batch.shape[0]\n",
    "    z = np.random.normal(size=(batch_size, model.vocab_size))\n",
    "    y = softmax(z)\n",
    "\n",
    "    expanded_target_batch = model.indicator_matrix(target_batch)\n",
    "    loss_derivative = model.compute_loss_derivative(y, expanded_target_batch)\n",
    "\n",
    "    if loss_derivative is None:\n",
    "        print('Loss derivative not implemented yet.')\n",
    "        return False\n",
    "\n",
    "    if loss_derivative.shape != (batch_size, model.vocab_size):\n",
    "        print('Loss derivative should be size {} but is actually {}.'.format(\n",
    "            (batch_size, model.vocab_size), loss_derivative.shape))\n",
    "        return False\n",
    "\n",
    "    def obj(z):\n",
    "        y = softmax(z)\n",
    "        return model.compute_loss(y, expanded_target_batch)\n",
    "\n",
    "    for count in range(1000):\n",
    "        i, j = np.random.randint(0, loss_derivative.shape[0]), np.random.randint(0, loss_derivative.shape[1])\n",
    "\n",
    "        z_plus = z.copy()\n",
    "        z_plus[i, j] += EPS\n",
    "        obj_plus = obj(z_plus)\n",
    "\n",
    "        z_minus = z.copy()\n",
    "        z_minus[i, j] -= EPS\n",
    "        obj_minus = obj(z_minus)\n",
    "\n",
    "        empirical = (obj_plus - obj_minus) / (2. * EPS)\n",
    "        rel = relative_error(empirical, loss_derivative[i, j])\n",
    "        if rel > 1e-4:\n",
    "            print('The loss derivative has a relative error of {}, which is too large.'.format(rel))\n",
    "            return False\n",
    "\n",
    "    print('The loss derivative looks OK.')\n",
    "    return True\n",
    "\n",
    "\n",
    "def check_param_gradient(model, param_name, input_batch, target_batch):\n",
    "    activations = model.compute_activations(input_batch)\n",
    "    expanded_target_batch = model.indicator_matrix(target_batch)\n",
    "    loss_derivative = model.compute_loss_derivative(activations.output_layer, expanded_target_batch)\n",
    "    param_gradient = model.back_propagate(input_batch, activations, loss_derivative)\n",
    "\n",
    "    def obj(model):\n",
    "        activations = model.compute_activations(input_batch)\n",
    "        return model.compute_loss(activations.output_layer, expanded_target_batch)\n",
    "\n",
    "    dims = getattr(model.params, param_name).shape\n",
    "    is_matrix = (len(dims) == 2)\n",
    "\n",
    "    if getattr(param_gradient, param_name).shape != dims:\n",
    "        print('The gradient for {} should be size {} but is actually {}.'.format(\n",
    "            param_name, dims, getattr(param_gradient, param_name).shape))\n",
    "        return\n",
    "\n",
    "    for count in range(1000):\n",
    "        if is_matrix:\n",
    "            slc = np.random.randint(0, dims[0]), np.random.randint(0, dims[1])\n",
    "        else:\n",
    "            slc = np.random.randint(dims[0])\n",
    "\n",
    "        model_plus = model.copy()\n",
    "        getattr(model_plus.params, param_name)[slc] += EPS\n",
    "        obj_plus = obj(model_plus)\n",
    "\n",
    "        model_minus = model.copy()\n",
    "        getattr(model_minus.params, param_name)[slc] -= EPS\n",
    "        obj_minus = obj(model_minus)\n",
    "\n",
    "        empirical = (obj_plus - obj_minus) / (2. * EPS)\n",
    "        exact = getattr(param_gradient, param_name)[slc]\n",
    "        rel = relative_error(empirical, exact)\n",
    "        if rel > 1e-4:\n",
    "            print('The loss derivative has a relative error of {}, which is too large.'.format(rel))\n",
    "            return False\n",
    "\n",
    "    print('The gradient for {} looks OK.'.format(param_name))\n",
    "\n",
    "\n",
    "def load_partially_trained_model():\n",
    "    obj = pickle.load(open(PARTIALLY_TRAINED_MODEL, 'rb'))\n",
    "    params = Params(obj['word_embedding_weights'], obj['embed_to_hid_weights'],\n",
    "                                   obj['hid_to_output_weights'], obj['hid_bias'],\n",
    "                                   obj['output_bias'])\n",
    "    vocab = obj['vocab']\n",
    "    return Model(params, vocab)\n",
    "\n",
    "\n",
    "def check_gradients():\n",
    "    \"\"\"Check the computed gradients using finite differences.\"\"\"\n",
    "    np.random.seed(0)\n",
    "\n",
    "    np.seterr(all='ignore')  # suppress a warning which is harmless\n",
    "\n",
    "    model = load_partially_trained_model()\n",
    "    data_obj = pickle.load(open(data_location, 'rb'))\n",
    "    train_inputs, train_targets = data_obj['train_inputs'], data_obj['train_targets']\n",
    "    input_batch = train_inputs[:100, :]\n",
    "    target_batch = train_targets[:100]\n",
    "\n",
    "    if not check_output_derivatives(model, input_batch, target_batch):\n",
    "        return\n",
    "\n",
    "    for param_name in ['word_embedding_weights', 'embed_to_hid_weights', 'hid_to_output_weights',\n",
    "                       'hid_bias', 'output_bias']:\n",
    "        check_param_gradient(model, param_name, input_batch, target_batch)\n",
    "\n",
    "\n",
    "def print_gradients():\n",
    "    \"\"\"Print out certain derivatives for grading.\"\"\"\n",
    "\n",
    "    model = load_partially_trained_model()\n",
    "    data_obj = pickle.load(open(data_location, 'rb'))\n",
    "    train_inputs, train_targets = data_obj['train_inputs'], data_obj['train_targets']\n",
    "    input_batch = train_inputs[:100, :]\n",
    "    target_batch = train_targets[:100]\n",
    "\n",
    "    activations = model.compute_activations(input_batch)\n",
    "    expanded_target_batch = model.indicator_matrix(target_batch)\n",
    "    loss_derivative = model.compute_loss_derivative(activations.output_layer, expanded_target_batch)\n",
    "    param_gradient = model.back_propagate(input_batch, activations, loss_derivative)\n",
    "\n",
    "    print('loss_derivative[2, 5]', loss_derivative[2, 5])\n",
    "    print('loss_derivative[2, 121]', loss_derivative[2, 121])\n",
    "    print('loss_derivative[5, 33]', loss_derivative[5, 33])\n",
    "    print('loss_derivative[5, 31]', loss_derivative[5, 31])\n",
    "    print()\n",
    "    print('param_gradient.word_embedding_weights[27, 2]', param_gradient.word_embedding_weights[27, 2])\n",
    "    print('param_gradient.word_embedding_weights[43, 3]', param_gradient.word_embedding_weights[43, 3])\n",
    "    print('param_gradient.word_embedding_weights[22, 4]', param_gradient.word_embedding_weights[22, 4])\n",
    "    print('param_gradient.word_embedding_weights[2, 5]', param_gradient.word_embedding_weights[2, 5])\n",
    "    print()\n",
    "    print('param_gradient.embed_to_hid_weights[10, 2]', param_gradient.embed_to_hid_weights[10, 2])\n",
    "    print('param_gradient.embed_to_hid_weights[15, 3]', param_gradient.embed_to_hid_weights[15, 3])\n",
    "    print('param_gradient.embed_to_hid_weights[30, 9]', param_gradient.embed_to_hid_weights[30, 9])\n",
    "    print('param_gradient.embed_to_hid_weights[35, 21]', param_gradient.embed_to_hid_weights[35, 21])\n",
    "    print()\n",
    "    print('param_gradient.hid_bias[10]', param_gradient.hid_bias[10])\n",
    "    print('param_gradient.hid_bias[20]', param_gradient.hid_bias[20])\n",
    "    print()\n",
    "    print('param_gradient.output_bias[0]', param_gradient.output_bias[0])\n",
    "    print('param_gradient.output_bias[1]', param_gradient.output_bias[1])\n",
    "    print('param_gradient.output_bias[2]', param_gradient.output_bias[2])\n",
    "    print('param_gradient.output_bias[3]', param_gradient.output_bias[3])\n"
   ]
  },
  {
   "cell_type": "code",
   "execution_count": 20,
   "metadata": {
    "colab": {},
    "colab_type": "code",
    "id": "1TCLl7v189SI"
   },
   "outputs": [
    {
     "name": "stdout",
     "output_type": "stream",
     "text": [
      "The loss derivative looks OK.\n",
      "The gradient for word_embedding_weights looks OK.\n",
      "The gradient for embed_to_hid_weights looks OK.\n",
      "The gradient for hid_to_output_weights looks OK.\n",
      "The gradient for hid_bias looks OK.\n",
      "The gradient for output_bias looks OK.\n",
      "loss_derivative[2, 5] 0.001112231773782498\n",
      "loss_derivative[2, 121] -0.9991004720395987\n",
      "loss_derivative[5, 33] 0.0001903237803173703\n",
      "loss_derivative[5, 31] -0.7999757709589483\n",
      "\n",
      "param_gradient.word_embedding_weights[27, 2] -0.27199539981936866\n",
      "param_gradient.word_embedding_weights[43, 3] 0.8641722267354154\n",
      "param_gradient.word_embedding_weights[22, 4] -0.25467302023746485\n",
      "param_gradient.word_embedding_weights[2, 5] 0.0\n",
      "\n",
      "param_gradient.embed_to_hid_weights[10, 2] -0.6526990313918255\n",
      "param_gradient.embed_to_hid_weights[15, 3] -0.13106433000472612\n",
      "param_gradient.embed_to_hid_weights[30, 9] 0.11846774618169398\n",
      "param_gradient.embed_to_hid_weights[35, 21] -0.1000452610460439\n",
      "\n",
      "param_gradient.hid_bias[10] 0.2537663873815642\n",
      "param_gradient.hid_bias[20] -0.03326739163635369\n",
      "\n",
      "param_gradient.output_bias[0] -2.0627596032173052\n",
      "param_gradient.output_bias[1] 0.0390200857392169\n",
      "param_gradient.output_bias[2] -0.7561537928318482\n",
      "param_gradient.output_bias[3] 0.21235172051123635\n"
     ]
    }
   ],
   "source": [
    "check_gradients()\n",
    "print_gradients()"
   ]
  },
  {
   "cell_type": "markdown",
   "metadata": {
    "colab_type": "text",
    "id": "qtC-br-N5xGT"
   },
   "source": [
    "Once you've implemented the gradient computation, you'll need to train the model.\n",
    "The function *train* implements the main training procedure.\n",
    "It takes two arguments:\n",
    "\n",
    "\n",
    "*   *embedding_dim*: The number of dimensions in the distributed representation.\n",
    "*   *num_hid*: The number of hidden units\n",
    "\n",
    "\n",
    "As the model trains, the script prints out some numbers that tell you how well the training is going.\n",
    "It shows:\n",
    "\n",
    "\n",
    "*   The cross entropy on the last 100 mini-batches of the training set. This is shown after every 100 mini-batches.\n",
    "*   The cross entropy on the entire validation set every 1000 mini-batches of training.\n",
    "\n",
    "At the end of training, this function shows the cross entropies on the training, validation and test sets.\n",
    "It will return a *Model* instance."
   ]
  },
  {
   "cell_type": "code",
   "execution_count": 21,
   "metadata": {
    "colab": {},
    "colab_type": "code",
    "id": "akBYJQOdLfaF"
   },
   "outputs": [],
   "source": [
    "_train_inputs = None\n",
    "_train_targets = None\n",
    "_vocab = None\n",
    "\n",
    "DEFAULT_TRAINING_CONFIG = {'batch_size': 100,  # the size of a mini-batch\n",
    "                           'learning_rate': 0.1,  # the learning rate\n",
    "                           'momentum': 0.9,  # the decay parameter for the momentum vector\n",
    "                           'epochs': 50,  # the maximum number of epochs to run\n",
    "                           'init_wt': 0.01,  # the standard deviation of the initial random weights\n",
    "                           'context_len': 3,  # the number of context words used\n",
    "                           'show_training_CE_after': 100,  # measure training error after this many mini-batches\n",
    "                           'show_validation_CE_after': 1000,  # measure validation error after this many mini-batches\n",
    "                           }\n",
    "\n",
    "\n",
    "def find_occurrences(word1, word2, word3):\n",
    "    \"\"\"Lists all the words that followed a given tri-gram in the training set and the number of\n",
    "    times each one followed it.\"\"\"\n",
    "\n",
    "    # cache the data so we don't keep reloading\n",
    "    global _train_inputs, _train_targets, _vocab\n",
    "    if _train_inputs is None:\n",
    "        data_obj = pickle.load(open(data_location, 'rb'))\n",
    "        _vocab = data_obj['vocab']\n",
    "        _train_inputs, _train_targets = data_obj['train_inputs'], data_obj['train_targets']\n",
    "\n",
    "    if word1 not in _vocab:\n",
    "        raise RuntimeError('Word \"{}\" not in vocabulary.'.format(word1))\n",
    "    if word2 not in _vocab:\n",
    "        raise RuntimeError('Word \"{}\" not in vocabulary.'.format(word2))\n",
    "    if word3 not in _vocab:\n",
    "        raise RuntimeError('Word \"{}\" not in vocabulary.'.format(word3))\n",
    "\n",
    "    idx1, idx2, idx3 = _vocab.index(word1), _vocab.index(word2), _vocab.index(word3)\n",
    "    idxs = np.array([idx1, idx2, idx3])\n",
    "\n",
    "    matches = np.all(_train_inputs == idxs.reshape((1, -1)), 1)\n",
    "\n",
    "    if np.any(matches):\n",
    "        counts = collections.defaultdict(int)\n",
    "        for m in np.where(matches)[0]:\n",
    "            counts[_vocab[_train_targets[m]]] += 1\n",
    "\n",
    "        word_counts = sorted(list(counts.items()), key=lambda t: t[1], reverse=True)\n",
    "        print('The tri-gram \"{} {} {}\" was followed by the following words in the training set:'.format(\n",
    "            word1, word2, word3))\n",
    "        for word, count in word_counts:\n",
    "            if count > 1:\n",
    "                print('    {} ({} times)'.format(word, count))\n",
    "            else:\n",
    "                print('    {} (1 time)'.format(word))\n",
    "    else:\n",
    "        print('The tri-gram \"{} {} {}\" did not occur in the training set.'.format(word1, word2, word3))\n",
    "\n",
    "\n",
    "def train(embedding_dim, num_hid, config=DEFAULT_TRAINING_CONFIG):\n",
    "    \"\"\"This is the main training routine for the language model. It takes two parameters:\n",
    "\n",
    "        embedding_dim, the dimension of the embeddilanguage_model.pyng space\n",
    "        num_hid, the number of hidden units.\"\"\"\n",
    "\n",
    "    # Load the data\n",
    "    data_obj = pickle.load(open(data_location, 'rb'))\n",
    "    vocab = data_obj['vocab']\n",
    "    train_inputs, train_targets = data_obj['train_inputs'], data_obj['train_targets']\n",
    "    valid_inputs, valid_targets = data_obj['valid_inputs'], data_obj['valid_targets']\n",
    "    test_inputs, test_targets = data_obj['test_inputs'], data_obj['test_targets']\n",
    "\n",
    "    # Randomly initialize the trainable parameters\n",
    "    model = Model.random_init(config['init_wt'], vocab, config['context_len'], embedding_dim, num_hid)\n",
    "\n",
    "    # Variables used for early stopping\n",
    "    best_valid_CE = np.infty\n",
    "    end_training = False\n",
    "\n",
    "    # Initialize the momentum vector to all zeros\n",
    "    delta = Params.zeros(len(vocab), config['context_len'], embedding_dim, num_hid)\n",
    "\n",
    "    this_chunk_CE = 0.\n",
    "    batch_count = 0\n",
    "    for epoch in range(1, config['epochs'] + 1):\n",
    "        if end_training:\n",
    "            break\n",
    "\n",
    "        print()\n",
    "        print('Epoch', epoch)\n",
    "\n",
    "        for m, (input_batch, target_batch) in enumerate(get_batches(train_inputs, train_targets,\n",
    "                                                                    config['batch_size'])):\n",
    "            batch_count += 1\n",
    "\n",
    "            # Forward propagate\n",
    "            activations = model.compute_activations(input_batch)\n",
    "\n",
    "            # Compute loss derivative\n",
    "            expanded_target_batch = model.indicator_matrix(target_batch)\n",
    "            loss_derivative = model.compute_loss_derivative(activations.output_layer, expanded_target_batch)\n",
    "            loss_derivative /= config['batch_size']\n",
    "\n",
    "            # Measure loss function\n",
    "            cross_entropy = model.compute_loss(activations.output_layer, expanded_target_batch) / config['batch_size']\n",
    "            this_chunk_CE += cross_entropy\n",
    "            if batch_count % config['show_training_CE_after'] == 0:\n",
    "                print('Batch {} Train CE {:1.3f}'.format(\n",
    "                    batch_count, this_chunk_CE / config['show_training_CE_after']))\n",
    "                this_chunk_CE = 0.\n",
    "\n",
    "            # Backpropagate\n",
    "            loss_gradient = model.back_propagate(input_batch, activations, loss_derivative)\n",
    "\n",
    "            # Update the momentum vector and model parameters\n",
    "            delta = config['momentum'] * delta + loss_gradient\n",
    "            model.params -= config['learning_rate'] * delta\n",
    "\n",
    "            # Validate\n",
    "            if batch_count % config['show_validation_CE_after'] == 0:\n",
    "                print('Running validation...')\n",
    "                cross_entropy = model.evaluate(valid_inputs, valid_targets)\n",
    "                print('Validation cross-entropy: {:1.3f}'.format(cross_entropy))\n",
    "\n",
    "                if cross_entropy > best_valid_CE:\n",
    "                    print('Validation error increasing!  Training stopped.')\n",
    "                    end_training = True\n",
    "                    break\n",
    "\n",
    "                best_valid_CE = cross_entropy\n",
    "\n",
    "    print()\n",
    "    train_CE = model.evaluate(train_inputs, train_targets)\n",
    "    print('Final training cross-entropy: {:1.3f}'.format(train_CE))\n",
    "    valid_CE = model.evaluate(valid_inputs, valid_targets)\n",
    "    print('Final validation cross-entropy: {:1.3f}'.format(valid_CE))\n",
    "    test_CE = model.evaluate(test_inputs, test_targets)\n",
    "    print('Final test cross-entropy: {:1.3f}'.format(test_CE))\n",
    "\n",
    "    return model"
   ]
  },
  {
   "cell_type": "markdown",
   "metadata": {
    "colab_type": "text",
    "id": "ZX-g3K-F55h7"
   },
   "source": [
    "Run the training.\n"
   ]
  },
  {
   "cell_type": "code",
   "execution_count": 22,
   "metadata": {
    "colab": {},
    "colab_type": "code",
    "id": "BwlRG7j8LmIM"
   },
   "outputs": [
    {
     "name": "stdout",
     "output_type": "stream",
     "text": [
      "\n",
      "Epoch 1\n",
      "Batch 100 Train CE 4.528\n",
      "Batch 200 Train CE 4.464\n",
      "Batch 300 Train CE 4.464\n",
      "Batch 400 Train CE 4.426\n",
      "Batch 500 Train CE 4.454\n",
      "Batch 600 Train CE 4.434\n",
      "Batch 700 Train CE 4.418\n",
      "Batch 800 Train CE 4.429\n",
      "Batch 900 Train CE 4.413\n",
      "Batch 1000 Train CE 4.416\n",
      "Running validation...\n",
      "Validation cross-entropy: 4.399\n",
      "Batch 1100 Train CE 4.370\n",
      "Batch 1200 Train CE 4.311\n",
      "Batch 1300 Train CE 4.207\n",
      "Batch 1400 Train CE 4.176\n",
      "Batch 1500 Train CE 4.111\n",
      "Batch 1600 Train CE 4.086\n",
      "Batch 1700 Train CE 4.084\n",
      "Batch 1800 Train CE 4.019\n",
      "Batch 1900 Train CE 3.997\n",
      "Batch 2000 Train CE 3.999\n",
      "Running validation...\n",
      "Validation cross-entropy: 3.980\n",
      "Batch 2100 Train CE 3.978\n",
      "Batch 2200 Train CE 3.908\n",
      "Batch 2300 Train CE 3.900\n",
      "Batch 2400 Train CE 3.862\n",
      "Batch 2500 Train CE 3.848\n",
      "Batch 2600 Train CE 3.743\n",
      "Batch 2700 Train CE 3.721\n",
      "Batch 2800 Train CE 3.675\n",
      "Batch 2900 Train CE 3.589\n",
      "Batch 3000 Train CE 3.550\n",
      "Running validation...\n",
      "Validation cross-entropy: 3.560\n",
      "Batch 3100 Train CE 3.537\n",
      "Batch 3200 Train CE 3.519\n",
      "Batch 3300 Train CE 3.472\n",
      "Batch 3400 Train CE 3.407\n",
      "Batch 3500 Train CE 3.428\n",
      "Batch 3600 Train CE 3.383\n",
      "Batch 3700 Train CE 3.403\n",
      "\n",
      "Epoch 2\n",
      "Batch 3800 Train CE 3.346\n",
      "Batch 3900 Train CE 3.347\n",
      "Batch 4000 Train CE 3.300\n",
      "Running validation...\n",
      "Validation cross-entropy: 3.313\n",
      "Batch 4100 Train CE 3.315\n",
      "Batch 4200 Train CE 3.275\n",
      "Batch 4300 Train CE 3.273\n",
      "Batch 4400 Train CE 3.294\n",
      "Batch 4500 Train CE 3.291\n",
      "Batch 4600 Train CE 3.253\n",
      "Batch 4700 Train CE 3.215\n",
      "Batch 4800 Train CE 3.173\n",
      "Batch 4900 Train CE 3.196\n",
      "Batch 5000 Train CE 3.194\n",
      "Running validation...\n",
      "Validation cross-entropy: 3.212\n",
      "Batch 5100 Train CE 3.188\n",
      "Batch 5200 Train CE 3.194\n",
      "Batch 5300 Train CE 3.158\n",
      "Batch 5400 Train CE 3.153\n",
      "Batch 5500 Train CE 3.167\n",
      "Batch 5600 Train CE 3.144\n",
      "Batch 5700 Train CE 3.144\n",
      "Batch 5800 Train CE 3.142\n",
      "Batch 5900 Train CE 3.114\n",
      "Batch 6000 Train CE 3.091\n",
      "Running validation...\n",
      "Validation cross-entropy: 3.127\n",
      "Batch 6100 Train CE 3.095\n",
      "Batch 6200 Train CE 3.083\n",
      "Batch 6300 Train CE 3.078\n",
      "Batch 6400 Train CE 3.086\n",
      "Batch 6500 Train CE 3.107\n",
      "Batch 6600 Train CE 3.129\n",
      "Batch 6700 Train CE 3.064\n",
      "Batch 6800 Train CE 3.056\n",
      "Batch 6900 Train CE 3.062\n",
      "Batch 7000 Train CE 3.045\n",
      "Running validation...\n",
      "Validation cross-entropy: 3.045\n",
      "Batch 7100 Train CE 3.032\n",
      "Batch 7200 Train CE 3.062\n",
      "Batch 7300 Train CE 3.051\n",
      "Batch 7400 Train CE 3.028\n",
      "\n",
      "Epoch 3\n",
      "Batch 7500 Train CE 3.026\n",
      "Batch 7600 Train CE 2.985\n",
      "Batch 7700 Train CE 3.016\n",
      "Batch 7800 Train CE 2.997\n",
      "Batch 7900 Train CE 2.996\n",
      "Batch 8000 Train CE 2.969\n",
      "Running validation...\n",
      "Validation cross-entropy: 2.996\n",
      "Batch 8100 Train CE 3.001\n",
      "Batch 8200 Train CE 2.972\n",
      "Batch 8300 Train CE 2.995\n",
      "Batch 8400 Train CE 2.970\n",
      "Batch 8500 Train CE 2.990\n",
      "Batch 8600 Train CE 2.959\n",
      "Batch 8700 Train CE 2.949\n",
      "Batch 8800 Train CE 2.947\n",
      "Batch 8900 Train CE 2.962\n",
      "Batch 9000 Train CE 2.947\n",
      "Running validation...\n",
      "Validation cross-entropy: 2.965\n",
      "Batch 9100 Train CE 2.967\n",
      "Batch 9200 Train CE 2.917\n",
      "Batch 9300 Train CE 2.930\n",
      "Batch 9400 Train CE 2.935\n",
      "Batch 9500 Train CE 2.981\n",
      "Batch 9600 Train CE 2.921\n",
      "Batch 9700 Train CE 2.940\n",
      "Batch 9800 Train CE 2.913\n",
      "Batch 9900 Train CE 2.902\n",
      "Batch 10000 Train CE 2.903\n",
      "Running validation...\n",
      "Validation cross-entropy: 2.924\n",
      "Batch 10100 Train CE 2.931\n",
      "Batch 10200 Train CE 2.898\n",
      "Batch 10300 Train CE 2.908\n",
      "Batch 10400 Train CE 2.914\n",
      "Batch 10500 Train CE 2.937\n",
      "Batch 10600 Train CE 2.923\n",
      "Batch 10700 Train CE 2.887\n",
      "Batch 10800 Train CE 2.906\n",
      "Batch 10900 Train CE 2.891\n",
      "Batch 11000 Train CE 2.900\n",
      "Running validation...\n",
      "Validation cross-entropy: 2.888\n",
      "Batch 11100 Train CE 2.877\n",
      "\n",
      "Epoch 4\n",
      "Batch 11200 Train CE 2.855\n",
      "Batch 11300 Train CE 2.853\n",
      "Batch 11400 Train CE 2.855\n",
      "Batch 11500 Train CE 2.875\n",
      "Batch 11600 Train CE 2.893\n",
      "Batch 11700 Train CE 2.849\n",
      "Batch 11800 Train CE 2.890\n",
      "Batch 11900 Train CE 2.859\n",
      "Batch 12000 Train CE 2.832\n",
      "Running validation...\n",
      "Validation cross-entropy: 2.884\n",
      "Batch 12100 Train CE 2.885\n",
      "Batch 12200 Train CE 2.819\n",
      "Batch 12300 Train CE 2.853\n",
      "Batch 12400 Train CE 2.837\n",
      "Batch 12500 Train CE 2.809\n",
      "Batch 12600 Train CE 2.857\n",
      "Batch 12700 Train CE 2.848\n",
      "Batch 12800 Train CE 2.857\n",
      "Batch 12900 Train CE 2.827\n",
      "Batch 13000 Train CE 2.811\n",
      "Running validation...\n",
      "Validation cross-entropy: 2.835\n",
      "Batch 13100 Train CE 2.840\n",
      "Batch 13200 Train CE 2.846\n",
      "Batch 13300 Train CE 2.801\n",
      "Batch 13400 Train CE 2.787\n",
      "Batch 13500 Train CE 2.810\n",
      "Batch 13600 Train CE 2.865\n",
      "Batch 13700 Train CE 2.813\n",
      "Batch 13800 Train CE 2.826\n",
      "Batch 13900 Train CE 2.848\n",
      "Batch 14000 Train CE 2.783\n",
      "Running validation...\n",
      "Validation cross-entropy: 2.828\n",
      "Batch 14100 Train CE 2.825\n",
      "Batch 14200 Train CE 2.802\n",
      "Batch 14300 Train CE 2.852\n",
      "Batch 14400 Train CE 2.788\n",
      "Batch 14500 Train CE 2.821\n",
      "Batch 14600 Train CE 2.812\n",
      "Batch 14700 Train CE 2.793\n",
      "Batch 14800 Train CE 2.834\n",
      "Batch 14900 Train CE 2.840\n",
      "\n",
      "Epoch 5\n",
      "Batch 15000 Train CE 2.796\n",
      "Running validation...\n",
      "Validation cross-entropy: 2.803\n",
      "Batch 15100 Train CE 2.776\n",
      "Batch 15200 Train CE 2.745\n",
      "Batch 15300 Train CE 2.807\n",
      "Batch 15400 Train CE 2.758\n",
      "Batch 15500 Train CE 2.781\n",
      "Batch 15600 Train CE 2.788\n",
      "Batch 15700 Train CE 2.738\n",
      "Batch 15800 Train CE 2.781\n",
      "Batch 15900 Train CE 2.764\n",
      "Batch 16000 Train CE 2.761\n",
      "Running validation...\n",
      "Validation cross-entropy: 2.796\n",
      "Batch 16100 Train CE 2.782\n",
      "Batch 16200 Train CE 2.764\n",
      "Batch 16300 Train CE 2.770\n",
      "Batch 16400 Train CE 2.790\n",
      "Batch 16500 Train CE 2.754\n",
      "Batch 16600 Train CE 2.766\n",
      "Batch 16700 Train CE 2.787\n",
      "Batch 16800 Train CE 2.759\n",
      "Batch 16900 Train CE 2.759\n",
      "Batch 17000 Train CE 2.771\n",
      "Running validation...\n",
      "Validation cross-entropy: 2.791\n",
      "Batch 17100 Train CE 2.799\n",
      "Batch 17200 Train CE 2.765\n",
      "Batch 17300 Train CE 2.783\n",
      "Batch 17400 Train CE 2.758\n",
      "Batch 17500 Train CE 2.764\n",
      "Batch 17600 Train CE 2.768\n",
      "Batch 17700 Train CE 2.791\n",
      "Batch 17800 Train CE 2.784\n",
      "Batch 17900 Train CE 2.773\n",
      "Batch 18000 Train CE 2.788\n",
      "Running validation...\n",
      "Validation cross-entropy: 2.775\n",
      "Batch 18100 Train CE 2.757\n",
      "Batch 18200 Train CE 2.736\n",
      "Batch 18300 Train CE 2.772\n",
      "Batch 18400 Train CE 2.764\n",
      "Batch 18500 Train CE 2.749\n",
      "Batch 18600 Train CE 2.727\n",
      "\n",
      "Epoch 6\n",
      "Batch 18700 Train CE 2.723\n",
      "Batch 18800 Train CE 2.718\n",
      "Batch 18900 Train CE 2.720\n",
      "Batch 19000 Train CE 2.749\n",
      "Running validation...\n",
      "Validation cross-entropy: 2.773\n",
      "Batch 19100 Train CE 2.693\n",
      "Batch 19200 Train CE 2.728\n",
      "Batch 19300 Train CE 2.741\n",
      "Batch 19400 Train CE 2.722\n",
      "Batch 19500 Train CE 2.749\n",
      "Batch 19600 Train CE 2.756\n",
      "Batch 19700 Train CE 2.765\n",
      "Batch 19800 Train CE 2.746\n",
      "Batch 19900 Train CE 2.708\n",
      "Batch 20000 Train CE 2.748\n",
      "Running validation...\n",
      "Validation cross-entropy: 2.752\n",
      "Batch 20100 Train CE 2.714\n",
      "Batch 20200 Train CE 2.730\n",
      "Batch 20300 Train CE 2.712\n",
      "Batch 20400 Train CE 2.730\n",
      "Batch 20500 Train CE 2.729\n",
      "Batch 20600 Train CE 2.718\n",
      "Batch 20700 Train CE 2.736\n",
      "Batch 20800 Train CE 2.751\n",
      "Batch 20900 Train CE 2.736\n",
      "Batch 21000 Train CE 2.729\n",
      "Running validation...\n",
      "Validation cross-entropy: 2.750\n",
      "Batch 21100 Train CE 2.732\n",
      "Batch 21200 Train CE 2.732\n",
      "Batch 21300 Train CE 2.704\n",
      "Batch 21400 Train CE 2.718\n",
      "Batch 21500 Train CE 2.736\n",
      "Batch 21600 Train CE 2.714\n",
      "Batch 21700 Train CE 2.736\n",
      "Batch 21800 Train CE 2.674\n",
      "Batch 21900 Train CE 2.711\n",
      "Batch 22000 Train CE 2.693\n",
      "Running validation...\n",
      "Validation cross-entropy: 2.738\n",
      "Batch 22100 Train CE 2.728\n",
      "Batch 22200 Train CE 2.733\n",
      "Batch 22300 Train CE 2.728\n",
      "\n",
      "Epoch 7\n",
      "Batch 22400 Train CE 2.738\n",
      "Batch 22500 Train CE 2.675\n",
      "Batch 22600 Train CE 2.687\n",
      "Batch 22700 Train CE 2.720\n",
      "Batch 22800 Train CE 2.742\n",
      "Batch 22900 Train CE 2.680\n",
      "Batch 23000 Train CE 2.692\n",
      "Running validation...\n",
      "Validation cross-entropy: 2.750\n",
      "Validation error increasing!  Training stopped.\n",
      "\n",
      "Final training cross-entropy: 2.699\n",
      "Final validation cross-entropy: 2.750\n",
      "Final test cross-entropy: 2.752\n"
     ]
    }
   ],
   "source": [
    "embedding_dim = 16\n",
    "num_hid = 128\n",
    "trained_model = train(embedding_dim, num_hid)"
   ]
  },
  {
   "cell_type": "markdown",
   "metadata": {
    "colab_type": "text",
    "id": "2FD5Om0ypNPe"
   },
   "source": [
    "To convince us that you have correctly implemented the gradient computations, please include the following with your assignment submission:\n",
    "\n",
    "\n",
    "\n",
    "*   You will submit *language_model.ipynb* through MarkUs.\n",
    "You do not need to modify any of the code except the parts we asked you to implement.\n",
    "*   In your writeup, include the output of the function *print_gradients*.\n",
    "This prints out part of the gradients for a partially trained network which we have provided, and we will check them against the correct outputs. **Important:** make sure to give the output of *print_gradients*, not *check_gradients*.\n",
    "\n",
    "This is worth 4 points: 1 for the loss derivatives, 1 for the bias gradients, and 2 for the weight gradients.\n",
    "Since we gave you a gradient checker, you have no excuse for not getting full points on this part.\n",
    "\n"
   ]
  },
  {
   "cell_type": "code",
   "execution_count": 23,
   "metadata": {},
   "outputs": [
    {
     "data": {
      "text/plain": [
       "array([143, 116, 121, 185,   5,  31,  31, 143,  31,  67, 108, 199, 225,\n",
       "        33, 169, 143,  54,   0, 139, 143, 174, 197,  49, 113,  96, 143,\n",
       "       185, 143,  73, 143, 157,  31,  33, 143,  43, 157, 220,  33,  52,\n",
       "       143,  69,  35,   5, 143, 178,  75,  12,  75,  72,  88,  25, 206,\n",
       "       125, 153, 213, 200,   0, 220,  90, 143, 125, 143, 108, 220,  80,\n",
       "        73,  58, 174, 130,  88, 208,  22,  22, 192,   2, 196,   0, 143,\n",
       "       116, 189, 143, 142, 143,  54, 116,  22, 192, 170, 143, 156, 151,\n",
       "       170,  88, 143, 222,  41, 189, 143, 222,  41], dtype=int32)"
      ]
     },
     "execution_count": 23,
     "metadata": {},
     "output_type": "execute_result"
    }
   ],
   "source": [
    "data_obj = pickle.load(open(data_location, 'rb'))\n",
    "train_inputs, train_targets = data_obj['train_inputs'], data_obj['train_targets']\n",
    "input_batch = train_inputs[:100, :]\n",
    "target_batch = train_targets[:100]\n",
    "target_batch"
   ]
  },
  {
   "cell_type": "markdown",
   "metadata": {
    "colab_type": "text",
    "id": "z-TThqObiw58"
   },
   "source": [
    "# Part 4: Analysis (4pts)\n",
    "\n",
    "In this part, you will analyze the representation learned by the network. You should first train a\n",
    "model with a 16-dimensional embedding and 128 hidden units, as discussed in the previous section;\n",
    "you’ll use this trained model for the remainder of this section.\n",
    "Important: if you’ve made any fixes\n",
    "to your gradient code, you must reload the language_model module and then re-run the training\n",
    "procedure.\n",
    "Python does not reload modules automatically, and you don’t want to accidentally\n",
    "analyze an old version of your model.\n",
    "\n",
    "These methods of the Model class can be used for analyzing the model after the training is\n",
    "done:\n",
    "\n",
    "\n",
    "\n",
    "*   *display_nearest_words* lists the words whose embedding vectors are nearest to the given\n",
    "word\n",
    "*   *word_distance* computes the distance between the embeddings of two words\n",
    "*   *predict_next_word* shows the possible next words the model considers most likely, along\n",
    "with their probabilities\n",
    "\n",
    "\n",
    "We also include:\n",
    "\n",
    "\n",
    "*    *tsne_plot_representation* creates a 2-dimensional embedding of the distributed representation space using\n",
    "an algorithm called t-SNE. (You don’t need to know what this is for the assignment, but we\n",
    "may cover it later in the course.) Nearby points in this 2-D space are meant to correspond to\n",
    "nearby points in the 16-D space."
   ]
  },
  {
   "cell_type": "code",
   "execution_count": 24,
   "metadata": {
    "colab": {},
    "colab_type": "code",
    "id": "1PCshvD3ijGM"
   },
   "outputs": [],
   "source": [
    "import numpy as Math\n",
    "\n",
    "def Hbeta(D=Math.array([]), beta=1.0):\n",
    "    \"\"\"Compute the perplexity and the P-row for a specific value of the precision of a Gaussian distribution.\"\"\"\n",
    "\n",
    "    # Compute P-row and corresponding perplexity\n",
    "    P = Math.exp(-D.copy() * beta);\n",
    "    sumP = sum(P);\n",
    "    H = Math.log(sumP) + beta * Math.sum(D * P) / sumP;\n",
    "    P = P / sumP;\n",
    "    return H, P;\n",
    "\n",
    "\n",
    "def x2p(X=Math.array([]), tol=1e-5, perplexity=30.0):\n",
    "    \"\"\"Performs a binary search to get P-values in such a way that each conditional Gaussian has the same perplexity.\"\"\"\n",
    "\n",
    "    # Initialize some variables\n",
    "    print(\"Computing pairwise distances...\")\n",
    "    (n, d) = X.shape;\n",
    "    sum_X = Math.sum(Math.square(X), 1);\n",
    "    D = Math.add(Math.add(-2 * Math.dot(X, X.T), sum_X).T, sum_X);\n",
    "    P = Math.zeros((n, n));\n",
    "    beta = Math.ones((n, 1));\n",
    "    logU = Math.log(perplexity);\n",
    "\n",
    "    # Loop over all datapoints\n",
    "    for i in range(n):\n",
    "\n",
    "        # Print progress\n",
    "        if i % 500 == 0:\n",
    "            print(\"Computing P-values for point \", i, \" of \", n, \"...\")\n",
    "\n",
    "        # Compute the Gaussian kernel and entropy for the current precision\n",
    "        betamin = -Math.inf;\n",
    "        betamax = Math.inf;\n",
    "        Di = D[i, Math.concatenate((Math.r_[0:i], Math.r_[i + 1:n]))];\n",
    "        (H, thisP) = Hbeta(Di, beta[i]);\n",
    "\n",
    "        # Evaluate whether the perplexity is within tolerance\n",
    "        Hdiff = H - logU;\n",
    "        tries = 0;\n",
    "        while Math.abs(Hdiff) > tol and tries < 50:\n",
    "\n",
    "            # If not, increase or decrease precision\n",
    "            if Hdiff > 0:\n",
    "                betamin = beta[i];\n",
    "                if betamax == Math.inf or betamax == -Math.inf:\n",
    "                    beta[i] = beta[i] * 2;\n",
    "                else:\n",
    "                    beta[i] = (beta[i] + betamax) / 2;\n",
    "            else:\n",
    "                betamax = beta[i];\n",
    "                if betamin == Math.inf or betamin == -Math.inf:\n",
    "                    beta[i] = beta[i] / 2;\n",
    "                else:\n",
    "                    beta[i] = (beta[i] + betamin) / 2;\n",
    "\n",
    "            # Recompute the values\n",
    "            (H, thisP) = Hbeta(Di, beta[i]);\n",
    "            Hdiff = H - logU;\n",
    "            tries = tries + 1;\n",
    "\n",
    "        # Set the final row of P\n",
    "        P[i, Math.concatenate((Math.r_[0:i], Math.r_[i + 1:n]))] = thisP;\n",
    "\n",
    "    # Return final P-matrix\n",
    "    print(\"Mean value of sigma: \", Math.mean(Math.sqrt(1 / beta)))\n",
    "    return P;\n",
    "\n",
    "\n",
    "def pca(X=Math.array([]), no_dims=50):\n",
    "    \"\"\"Runs PCA on the NxD array X in order to reduce its dimensionality to no_dims dimensions.\"\"\"\n",
    "\n",
    "    print(\"Preprocessing the data using PCA...\")\n",
    "    (n, d) = X.shape;\n",
    "    X = X - Math.tile(Math.mean(X, 0), (n, 1));\n",
    "    (l, M) = Math.linalg.eig(Math.dot(X.T, X));\n",
    "    Y = Math.dot(X, M[:, 0:no_dims]);\n",
    "    return Y;\n",
    "\n",
    "\n",
    "def tsne(X=Math.array([]), no_dims=2, initial_dims=50, perplexity=30.0):\n",
    "    \"\"\"Runs t-SNE on the dataset in the NxD array X to reduce its dimensionality to no_dims dimensions.\n",
    "    The syntaxis of the function is Y = tsne.tsne(X, no_dims, perplexity), where X is an NxD NumPy array.\"\"\"\n",
    "\n",
    "    # Check inputs\n",
    "    if X.dtype != \"float64\":\n",
    "        print(\"Error: array X should have type float64.\");\n",
    "        return -1;\n",
    "    # if no_dims.__class__ != \"<type 'int'>\":\t\t\t# doesn't work yet!\n",
    "    #\tprint(\"Error: number of dimensions should be an integer.\");\n",
    "    #\treturn -1;\n",
    "\n",
    "    # Initialize variables\n",
    "    X = pca(X, initial_dims);\n",
    "    (n, d) = X.shape;\n",
    "    max_iter = 1000;\n",
    "    initial_momentum = 0.5;\n",
    "    final_momentum = 0.8;\n",
    "    eta = 500;\n",
    "    min_gain = 0.01;\n",
    "    Y = Math.random.randn(n, no_dims);\n",
    "    dY = Math.zeros((n, no_dims));\n",
    "    iY = Math.zeros((n, no_dims));\n",
    "    gains = Math.ones((n, no_dims));\n",
    "\n",
    "    # Compute P-values\n",
    "    P = x2p(X, 1e-5, perplexity);\n",
    "    P = P + Math.transpose(P);\n",
    "    P = P / Math.sum(P);\n",
    "    P = P * 4;  # early exaggeration\n",
    "    P = Math.maximum(P, 1e-12);\n",
    "\n",
    "    # Run iterations\n",
    "    for iter in range(max_iter):\n",
    "\n",
    "        # Compute pairwise affinities\n",
    "        sum_Y = Math.sum(Math.square(Y), 1);\n",
    "        num = 1 / (1 + Math.add(Math.add(-2 * Math.dot(Y, Y.T), sum_Y).T, sum_Y));\n",
    "        num[range(n), range(n)] = 0;\n",
    "        Q = num / Math.sum(num);\n",
    "        Q = Math.maximum(Q, 1e-12);\n",
    "\n",
    "        # Compute gradient\n",
    "        PQ = P - Q;\n",
    "        for i in range(n):\n",
    "            dY[i, :] = Math.sum(Math.tile(PQ[:, i] * num[:, i], (no_dims, 1)).T * (Y[i, :] - Y), 0);\n",
    "\n",
    "        # Perform the update\n",
    "        if iter < 20:\n",
    "            momentum = initial_momentum\n",
    "        else:\n",
    "            momentum = final_momentum\n",
    "        gains = (gains + 0.2) * ((dY > 0) != (iY > 0)) + (gains * 0.8) * ((dY > 0) == (iY > 0));\n",
    "        gains[gains < min_gain] = min_gain;\n",
    "        iY = momentum * iY - eta * (gains * dY);\n",
    "        Y = Y + iY;\n",
    "        Y = Y - Math.tile(Math.mean(Y, 0), (n, 1));\n",
    "\n",
    "        # Compute current value of cost function\n",
    "        if (iter + 1) % 10 == 0:\n",
    "            C = Math.sum(P * Math.log(P / Q));\n",
    "            print(\"Iteration \", (iter + 1), \": error is \", C)\n",
    "\n",
    "        # Stop lying about P-values\n",
    "        if iter == 100:\n",
    "            P = P / 4;\n",
    "\n",
    "    # Return solution\n",
    "    return Y;\n",
    "\n",
    "def tsne_plot_representation(model, fontsize = 7):\n",
    "    \"\"\"Plot a 2-D visualization of the learned representations using t-SNE.\"\"\"\n",
    "    print(model.params.word_embedding_weights.shape)\n",
    "    mapped_X = tsne(model.params.word_embedding_weights)\n",
    "    pylab.figure()\n",
    "    for i, w in enumerate(model.vocab):\n",
    "        pylab.text(mapped_X[i, 0], mapped_X[i, 1], w, fontsize = fontsize)\n",
    "    pylab.xlim(mapped_X[:, 0].min(), mapped_X[:, 0].max())\n",
    "    pylab.ylim(mapped_X[:, 1].min(), mapped_X[:, 1].max())\n",
    "    pylab.show()\n",
    "\n",
    "def tsne_plot_GLoVE_representation(W_final, b_final, fontsize = 7):\n",
    "    \"\"\"Plot a 2-D visualization of the learned representations using t-SNE.\"\"\"\n",
    "    mapped_X = tsne(W_final)\n",
    "    pylab.figure()\n",
    "    data_obj = pickle.load(open(data_location, 'rb'))\n",
    "    for i, w in enumerate(data_obj['vocab']):\n",
    "        pylab.text(mapped_X[i, 0], mapped_X[i, 1], w, fontsize = fontsize)\n",
    "    pylab.xlim(mapped_X[:, 0].min(), mapped_X[:, 0].max())\n",
    "    pylab.ylim(mapped_X[:, 1].min(), mapped_X[:, 1].max())\n",
    "    pylab.show()\n",
    "\n",
    "def plot_2d_GLoVE_representation(W_final, b_final, fontsize = 7):\n",
    "    \"\"\"Plot a 2-D visualization of the learned representations.\"\"\"\n",
    "    mapped_X = W_final\n",
    "    pylab.figure()\n",
    "    data_obj = pickle.load(open(data_location, 'rb'))\n",
    "    for i, w in enumerate(data_obj['vocab']):\n",
    "        pylab.text(mapped_X[i, 0], mapped_X[i, 1], w, fontsize = fontsize)\n",
    "    pylab.xlim(mapped_X[:, 0].min(), mapped_X[:, 0].max())\n",
    "    pylab.ylim(mapped_X[:, 1].min(), mapped_X[:, 1].max())\n",
    "    pylab.show()"
   ]
  },
  {
   "cell_type": "markdown",
   "metadata": {
    "colab_type": "text",
    "id": "5ZokGoNbivHp"
   },
   "source": [
    "Using these methods, please answer the following questions, each of which is worth 1 point.\n",
    "\n",
    "\n",
    "\n",
    "1.   Pick three words from the vocabulary that go well together (for example, ‘*government of united*’,\n",
    "‘*city of new*’, ‘*life in the*’, ‘*he is the*’ etc.).\n",
    "Use the model to predict the next word.\n",
    "Does the model give sensible predictions?\n",
    "Try to find an example where it makes a plausible prediction even though the 4-gram wasn’t present in the dataset (*raw_sentences.txt*).\n",
    "To help you out, the function *find_occurrences* lists the words that appear after a given 3-gram in the training set.\n",
    "2.   Plot the 2-dimensional visualization using the method *tsne_plot_representation*.\n",
    "Look at the plot and find a few clusters of related words.\n",
    "What do the words in each cluster have in common?\n",
    "Plot the 2-dimensional visualization using the method *tsne_plot_GLoVE_representation* for a 256 dimensional embedding.\n",
    "How do the t-SNE embeddings for both models compare?\n",
    "Plot the 2-dimensional visualization using the method *plot_2d_GLoVE_representation*.\n",
    "How does this compare to the t-SNE embeddings?\n",
    "(You don’t need to include the plots with your submission.)\n",
    "\n",
    "3.   Are the words ‘*new*’ and ‘*york*’ close together in the learned representation?\n",
    "Why or why not?\n",
    "4.   Which pair of words is closer together in the learned representation: (‘*government*’, ‘*political*’), or (‘*government*’, ‘*university*’)?\n",
    "Why do you think this is?\n",
    "\n"
   ]
  },
  {
   "cell_type": "markdown",
   "metadata": {},
   "source": [
    "### Examine Predicted Next Words"
   ]
  },
  {
   "cell_type": "code",
   "execution_count": 25,
   "metadata": {},
   "outputs": [
    {
     "data": {
      "text/plain": [
       "array(['$', \"'s\", ')', ',', '-', '--', '.', ':', ';', '?', 'a', 'about',\n",
       "       'after', 'against', 'ago', 'all', 'also', 'american', 'among',\n",
       "       'an', 'and', 'another', 'any', 'are', 'around', 'as', 'at', 'back',\n",
       "       'be', 'because', 'been', 'before', 'being', 'best', 'between',\n",
       "       'big', 'both', 'business', 'but', 'by', 'called', 'can', 'case',\n",
       "       'center', 'children', 'city', 'come', 'companies', 'company',\n",
       "       'could', 'country', 'court', 'day', 'days', 'department', 'did',\n",
       "       'director', 'do', 'does', 'down', 'dr.', 'during', 'each', 'end',\n",
       "       'even', 'every', 'family', 'federal', 'few', 'first', 'five',\n",
       "       'for', 'former', 'found', 'four', 'from', 'game', 'general', 'get',\n",
       "       'go', 'going', 'good', 'government', 'group', 'had', 'has', 'have',\n",
       "       'he', 'her', 'here', 'high', 'him', 'his', 'home', 'house', 'how',\n",
       "       'i', 'if', 'in', 'including', 'into', 'is', 'it', 'its', 'john',\n",
       "       'just', 'know', 'last', 'law', 'left', 'less', 'life', 'like',\n",
       "       'little', 'long', 'made', 'make', 'man', 'many', 'market', 'may',\n",
       "       'me', 'members', 'might', 'million', 'money', 'more', 'most',\n",
       "       'mr.', 'ms.', 'much', 'music', 'my', 'national', 'never', 'new',\n",
       "       'next', 'night', 'no', 'not', 'now', 'nt', 'of', 'off', 'office',\n",
       "       'officials', 'old', 'on', 'one', 'only', 'or', 'other', 'our',\n",
       "       'out', 'over', 'own', 'part', 'people', 'percent', 'place', 'play',\n",
       "       'police', 'political', 'president', 'program', 'public', 'put',\n",
       "       'right', 'said', 'same', 'say', 'says', 'school', 'season',\n",
       "       'second', 'see', 'set', 'several', 'she', 'should', 'show',\n",
       "       'since', 'so', 'some', 'state', 'states', 'still', 'street',\n",
       "       'such', 'take', 'team', 'than', 'that', 'the', 'their', 'them',\n",
       "       'then', 'there', 'these', 'they', 'think', 'this', 'those',\n",
       "       'though', 'three', 'through', 'time', 'times', 'to', 'today',\n",
       "       'too', 'two', 'under', 'united', 'university', 'until', 'up', 'us',\n",
       "       'use', 'used', 'very', 'want', 'war', 'was', 'way', 'we', 'week',\n",
       "       'well', 'were', 'west', 'what', 'when', 'where', 'which', 'while',\n",
       "       'white', 'who', 'will', 'with', 'without', 'women', 'work',\n",
       "       'world', 'would', 'year', 'years', 'yesterday', 'york', 'you',\n",
       "       'your'], dtype='<U10')"
      ]
     },
     "execution_count": 25,
     "metadata": {},
     "output_type": "execute_result"
    }
   ],
   "source": [
    "# trained_model.predict_next_word()\n",
    "# data['vocab']\n",
    "np.sort(np.array(data['vocab']))"
   ]
  },
  {
   "cell_type": "code",
   "execution_count": 26,
   "metadata": {},
   "outputs": [
    {
     "name": "stdout",
     "output_type": "stream",
     "text": [
      "second world war . Prob: 0.65752\n",
      "second world war is Prob: 0.09115\n",
      "second world war , Prob: 0.04428\n",
      "second world war 's Prob: 0.02085\n",
      "second world war there Prob: 0.01850\n",
      "second world war and Prob: 0.01704\n",
      "second world war at Prob: 0.01599\n",
      "second world war ? Prob: 0.01393\n",
      "second world war in Prob: 0.00952\n",
      "second world war was Prob: 0.00889\n"
     ]
    }
   ],
   "source": [
    "trained_model.predict_next_word('second', 'world', 'war')"
   ]
  },
  {
   "cell_type": "code",
   "execution_count": 27,
   "metadata": {},
   "outputs": [
    {
     "name": "stdout",
     "output_type": "stream",
     "text": [
      "The tri-gram \"second world war\" was followed by the following words in the training set:\n",
      "    . (3 times)\n",
      "    , (1 time)\n"
     ]
    }
   ],
   "source": [
    "find_occurrences('second', 'world', 'war')"
   ]
  },
  {
   "cell_type": "code",
   "execution_count": 28,
   "metadata": {},
   "outputs": [
    {
     "name": "stdout",
     "output_type": "stream",
     "text": [
      "The tri-gram \"back in new\" was followed by the following words in the training set:\n",
      "    york (8 times)\n"
     ]
    }
   ],
   "source": [
    "find_occurrences('back', 'in', 'new')"
   ]
  },
  {
   "cell_type": "code",
   "execution_count": 29,
   "metadata": {},
   "outputs": [
    {
     "name": "stdout",
     "output_type": "stream",
     "text": [
      "back in new york Prob: 0.95962\n",
      "back in new year Prob: 0.00337\n",
      "back in new world Prob: 0.00333\n",
      "back in new years Prob: 0.00333\n",
      "back in new , Prob: 0.00279\n",
      "back in new times Prob: 0.00236\n",
      "back in new days Prob: 0.00205\n",
      "back in new night Prob: 0.00184\n",
      "back in new school Prob: 0.00162\n",
      "back in new ? Prob: 0.00135\n"
     ]
    }
   ],
   "source": [
    "trained_model.predict_next_word('back', 'in', 'new')"
   ]
  },
  {
   "cell_type": "code",
   "execution_count": 30,
   "metadata": {},
   "outputs": [
    {
     "name": "stdout",
     "output_type": "stream",
     "text": [
      "just a little more Prob: 0.10083\n",
      "just a little time Prob: 0.07836\n",
      "just a little way Prob: 0.06716\n",
      "just a little money Prob: 0.06204\n",
      "just a little . Prob: 0.05827\n",
      "just a little , Prob: 0.04807\n",
      "just a little to Prob: 0.03657\n",
      "just a little one Prob: 0.03638\n",
      "just a little part Prob: 0.03431\n",
      "just a little of Prob: 0.03319\n"
     ]
    }
   ],
   "source": [
    "trained_model.predict_next_word('just', 'a', 'little')"
   ]
  },
  {
   "cell_type": "code",
   "execution_count": 31,
   "metadata": {},
   "outputs": [
    {
     "name": "stdout",
     "output_type": "stream",
     "text": [
      "The tri-gram \"if i even\" did not occur in the training set.\n"
     ]
    }
   ],
   "source": [
    "find_occurrences('if','i', 'even')"
   ]
  },
  {
   "cell_type": "code",
   "execution_count": 32,
   "metadata": {},
   "outputs": [
    {
     "name": "stdout",
     "output_type": "stream",
     "text": [
      "if i even have Prob: 0.18475\n",
      "if i even know Prob: 0.10043\n",
      "if i even do Prob: 0.08294\n",
      "if i even want Prob: 0.08254\n",
      "if i even think Prob: 0.07852\n",
      "if i even did Prob: 0.06498\n",
      "if i even get Prob: 0.05876\n",
      "if i even see Prob: 0.03014\n",
      "if i even say Prob: 0.02795\n",
      "if i even go Prob: 0.01652\n"
     ]
    }
   ],
   "source": [
    "trained_model.predict_next_word('if','i', 'even')"
   ]
  },
  {
   "cell_type": "code",
   "execution_count": 33,
   "metadata": {},
   "outputs": [
    {
     "name": "stdout",
     "output_type": "stream",
     "text": [
      "The tri-gram \"the police state\" did not occur in the training set.\n"
     ]
    }
   ],
   "source": [
    "find_occurrences('the', 'police', 'state')"
   ]
  },
  {
   "cell_type": "code",
   "execution_count": 34,
   "metadata": {},
   "outputs": [
    {
     "name": "stdout",
     "output_type": "stream",
     "text": [
      "the police state . Prob: 0.32736\n",
      "the police state ? Prob: 0.07721\n",
      "the police state , Prob: 0.05310\n",
      "the police state is Prob: 0.02576\n",
      "the police state said Prob: 0.01442\n",
      "the police state have Prob: 0.01323\n",
      "the police state do Prob: 0.01208\n",
      "the police state the Prob: 0.01163\n",
      "the police state last Prob: 0.01015\n",
      "the police state time Prob: 0.01010\n"
     ]
    }
   ],
   "source": [
    "trained_model.predict_next_word('the', 'police', 'state')"
   ]
  },
  {
   "cell_type": "markdown",
   "metadata": {},
   "source": [
    "### See if New and York are close in embedding space"
   ]
  },
  {
   "cell_type": "code",
   "execution_count": 35,
   "metadata": {},
   "outputs": [
    {
     "name": "stdout",
     "output_type": "stream",
     "text": [
      "old: 2.737016072727462\n",
      "american: 2.8285502806659486\n",
      "good: 2.90937204128979\n",
      "big: 2.931115988904034\n",
      "white: 3.009206399447951\n",
      "several: 3.2032761001975913\n",
      "political: 3.204478704890159\n",
      "our: 3.297386621466765\n",
      "national: 3.3702993411038182\n",
      "same: 3.371035581922794\n",
      "mr.: 3.371619255276857\n",
      "my: 3.3746129583316216\n",
      "five: 3.414161465683565\n",
      "his: 3.423977325063945\n",
      "federal: 3.4245447235774025\n",
      "your: 3.481780860877398\n",
      "own: 3.482431420714605\n",
      "million: 3.4891431063585037\n",
      "public: 3.495071673535935\n",
      "other: 3.5043046717029003\n"
     ]
    }
   ],
   "source": [
    "# see if new and york are close. show 20 nearest words\n",
    "trained_model.display_nearest_words('new', 20)"
   ]
  },
  {
   "cell_type": "code",
   "execution_count": 36,
   "metadata": {},
   "outputs": [
    {
     "name": "stdout",
     "output_type": "stream",
     "text": [
      "school: 0.8158285996624818\n",
      "ms.: 0.8451126543580145\n",
      "city: 0.8613290798413951\n",
      "?: 0.9136695622882911\n",
      "national: 0.9436097103960995\n",
      "university: 0.9607301451480837\n",
      "state: 0.9685329184952253\n",
      "general: 0.9841914927764727\n",
      "former: 1.0043426978579817\n",
      "john: 1.023533685355888\n",
      "music: 1.0254859064844244\n",
      "country: 1.0374401408918237\n",
      "dr.: 1.0409846584258768\n",
      "street: 1.0549574790768734\n",
      "$: 1.057739519146692\n",
      "west: 1.0791013245191996\n",
      "company: 1.094358179275942\n",
      "court: 1.094963263033661\n",
      "including: 1.1096304985820775\n",
      ".: 1.1113268055930328\n"
     ]
    }
   ],
   "source": [
    "trained_model.display_nearest_words('york', 20)"
   ]
  },
  {
   "cell_type": "markdown",
   "metadata": {},
   "source": [
    "### Distance between university, government and political"
   ]
  },
  {
   "cell_type": "code",
   "execution_count": 37,
   "metadata": {},
   "outputs": [
    {
     "data": {
      "text/plain": [
       "1.2808505981043905"
      ]
     },
     "execution_count": 37,
     "metadata": {},
     "output_type": "execute_result"
    }
   ],
   "source": [
    "trained_model.word_distance('government', 'political')"
   ]
  },
  {
   "cell_type": "code",
   "execution_count": 38,
   "metadata": {},
   "outputs": [
    {
     "data": {
      "text/plain": [
       "1.135421151222748"
      ]
     },
     "execution_count": 38,
     "metadata": {},
     "output_type": "execute_result"
    }
   ],
   "source": [
    "trained_model.word_distance('government', 'university')"
   ]
  },
  {
   "cell_type": "markdown",
   "metadata": {},
   "source": [
    "### TSNE Plots"
   ]
  },
  {
   "cell_type": "code",
   "execution_count": 39,
   "metadata": {
    "colab": {},
    "colab_type": "code",
    "id": "tZjEVB1oirWq"
   },
   "outputs": [
    {
     "name": "stdout",
     "output_type": "stream",
     "text": [
      "(250, 16)\n",
      "Preprocessing the data using PCA...\n",
      "Computing pairwise distances...\n",
      "Computing P-values for point  0  of  250 ...\n",
      "Mean value of sigma:  1.1399524522539968\n",
      "Iteration  10 : error is  13.506358030469054\n",
      "Iteration  20 : error is  12.730432808252946\n",
      "Iteration  30 : error is  13.904916713919595\n",
      "Iteration  40 : error is  13.879901284087413\n",
      "Iteration  50 : error is  14.16758504948861\n",
      "Iteration  60 : error is  13.789639632111605\n",
      "Iteration  70 : error is  14.12372893978539\n",
      "Iteration  80 : error is  13.579847685492387\n",
      "Iteration  90 : error is  13.535484637759174\n",
      "Iteration  100 : error is  13.972495322811533\n",
      "Iteration  110 : error is  1.7975314521887622\n",
      "Iteration  120 : error is  1.2455133522874737\n",
      "Iteration  130 : error is  1.013764966695864\n",
      "Iteration  140 : error is  0.8955092138506697\n",
      "Iteration  150 : error is  0.8384029333452898\n",
      "Iteration  160 : error is  0.7854804631024505\n",
      "Iteration  170 : error is  0.7555376194888592\n",
      "Iteration  180 : error is  0.7453426220974928\n",
      "Iteration  190 : error is  0.731256656460886\n",
      "Iteration  200 : error is  0.7222915141115106\n",
      "Iteration  210 : error is  0.7124124884884556\n",
      "Iteration  220 : error is  0.6972789741777488\n",
      "Iteration  230 : error is  0.6902190578365046\n",
      "Iteration  240 : error is  0.6873374526782908\n",
      "Iteration  250 : error is  0.6858538002876406\n",
      "Iteration  260 : error is  0.6842600943027446\n",
      "Iteration  270 : error is  0.6829286358297664\n",
      "Iteration  280 : error is  0.6794008486087157\n",
      "Iteration  290 : error is  0.6765679978376166\n",
      "Iteration  300 : error is  0.6661813459936831\n",
      "Iteration  310 : error is  0.6632577296085107\n",
      "Iteration  320 : error is  0.6613545361144583\n",
      "Iteration  330 : error is  0.6596892692097528\n",
      "Iteration  340 : error is  0.6587137825274718\n",
      "Iteration  350 : error is  0.6575515833388352\n",
      "Iteration  360 : error is  0.6570290180365058\n",
      "Iteration  370 : error is  0.6562543245866345\n",
      "Iteration  380 : error is  0.6554246847399069\n",
      "Iteration  390 : error is  0.6546338616406875\n",
      "Iteration  400 : error is  0.6538023554160965\n",
      "Iteration  410 : error is  0.6536036117724837\n",
      "Iteration  420 : error is  0.6534590664159619\n",
      "Iteration  430 : error is  0.6532959825734069\n",
      "Iteration  440 : error is  0.6531417634210526\n",
      "Iteration  450 : error is  0.6529423069225326\n",
      "Iteration  460 : error is  0.6528344873569709\n",
      "Iteration  470 : error is  0.6528133118017087\n",
      "Iteration  480 : error is  0.6528027905466948\n",
      "Iteration  490 : error is  0.6527962002954008\n",
      "Iteration  500 : error is  0.6527898796535754\n",
      "Iteration  510 : error is  0.652781906071786\n",
      "Iteration  520 : error is  0.6527692788376696\n",
      "Iteration  530 : error is  0.6527436612820245\n",
      "Iteration  540 : error is  0.652454453269747\n",
      "Iteration  550 : error is  0.6510165514509043\n",
      "Iteration  560 : error is  0.6502869667880469\n",
      "Iteration  570 : error is  0.6500347867397828\n",
      "Iteration  580 : error is  0.6496660413392209\n",
      "Iteration  590 : error is  0.6493397990002238\n",
      "Iteration  600 : error is  0.6493057687496979\n",
      "Iteration  610 : error is  0.6492940532262654\n",
      "Iteration  620 : error is  0.6492922948934701\n",
      "Iteration  630 : error is  0.6492913172604592\n",
      "Iteration  640 : error is  0.649290588631457\n",
      "Iteration  650 : error is  0.6492900983115272\n",
      "Iteration  660 : error is  0.649289669487853\n",
      "Iteration  670 : error is  0.64928927816463\n",
      "Iteration  680 : error is  0.6492889524766106\n",
      "Iteration  690 : error is  0.6492886966165381\n",
      "Iteration  700 : error is  0.649288509645303\n",
      "Iteration  710 : error is  0.6492883679816527\n",
      "Iteration  720 : error is  0.6492882658368067\n",
      "Iteration  730 : error is  0.649288192715547\n",
      "Iteration  740 : error is  0.6492881376579349\n",
      "Iteration  750 : error is  0.6492880978831542\n",
      "Iteration  760 : error is  0.6492880701106983\n",
      "Iteration  770 : error is  0.6492880495493485\n",
      "Iteration  780 : error is  0.6492880346797392\n",
      "Iteration  790 : error is  0.6492880243832402\n",
      "Iteration  800 : error is  0.6492880168908829\n",
      "Iteration  810 : error is  0.6492880112183305\n",
      "Iteration  820 : error is  0.6492880072085312\n",
      "Iteration  830 : error is  0.6492880042716802\n",
      "Iteration  840 : error is  0.6492880021514349\n",
      "Iteration  850 : error is  0.649288000685907\n",
      "Iteration  860 : error is  0.6492879996223045\n",
      "Iteration  870 : error is  0.6492879988398015\n",
      "Iteration  880 : error is  0.6492879982890143\n",
      "Iteration  890 : error is  0.6492879978911522\n",
      "Iteration  900 : error is  0.649287997605828\n",
      "Iteration  910 : error is  0.6492879973935299\n",
      "Iteration  920 : error is  0.6492879972398666\n",
      "Iteration  930 : error is  0.6492879971295906\n",
      "Iteration  940 : error is  0.6492879970518401\n",
      "Iteration  950 : error is  0.6492879969978849\n",
      "Iteration  960 : error is  0.6492879969583325\n",
      "Iteration  970 : error is  0.6492879969294617\n",
      "Iteration  980 : error is  0.6492879969093064\n",
      "Iteration  990 : error is  0.6492879968947214\n",
      "Iteration  1000 : error is  0.6492879968842459\n"
     ]
    },
    {
     "data": {
      "image/png": "[encoded data removed]",
      "text/plain": [
       "<Figure size 432x288 with 1 Axes>"
      ]
     },
     "metadata": {
      "needs_background": "light"
     },
     "output_type": "display_data"
    }
   ],
   "source": [
    "tsne_plot_representation(trained_model)"
   ]
  },
  {
   "cell_type": "code",
   "execution_count": 40,
   "metadata": {
    "colab": {},
    "colab_type": "code",
    "id": "1gJQE9Gxsftn"
   },
   "outputs": [
    {
     "name": "stdout",
     "output_type": "stream",
     "text": [
      "Preprocessing the data using PCA...\n",
      "Computing pairwise distances...\n",
      "Computing P-values for point  0  of  250 ...\n"
     ]
    },
    {
     "name": "stderr",
     "output_type": "stream",
     "text": [
      "/home/owhitley/anaconda3/lib/python3.7/site-packages/ipykernel_launcher.py:64: ComplexWarning: Casting complex values to real discards the imaginary part\n"
     ]
    },
    {
     "name": "stdout",
     "output_type": "stream",
     "text": [
      "Mean value of sigma:  0.67257272657703\n",
      "Iteration  10 : error is  17.34233896962489\n",
      "Iteration  20 : error is  16.244609792382647\n",
      "Iteration  30 : error is  17.408291984040844\n",
      "Iteration  40 : error is  17.456137566411996\n",
      "Iteration  50 : error is  17.941742202063597\n",
      "Iteration  60 : error is  18.12669888564794\n",
      "Iteration  70 : error is  17.501599528171088\n",
      "Iteration  80 : error is  18.40159734110495\n",
      "Iteration  90 : error is  18.00089917359929\n",
      "Iteration  100 : error is  18.147837971794008\n",
      "Iteration  110 : error is  2.6392127427081316\n",
      "Iteration  120 : error is  1.8533552032668825\n",
      "Iteration  130 : error is  1.4451069237580274\n",
      "Iteration  140 : error is  1.3009230677458434\n",
      "Iteration  150 : error is  1.2295721138977032\n",
      "Iteration  160 : error is  1.1787445906345428\n",
      "Iteration  170 : error is  1.1528612755969294\n",
      "Iteration  180 : error is  1.1317006342694587\n",
      "Iteration  190 : error is  1.108970553195359\n",
      "Iteration  200 : error is  1.085596689234243\n",
      "Iteration  210 : error is  1.071641803916263\n",
      "Iteration  220 : error is  1.0520579854563108\n",
      "Iteration  230 : error is  1.0340248639872764\n",
      "Iteration  240 : error is  1.0245250633990248\n",
      "Iteration  250 : error is  1.019432726266041\n",
      "Iteration  260 : error is  1.0121106619082785\n",
      "Iteration  270 : error is  1.0064497142427988\n",
      "Iteration  280 : error is  1.0040672252761498\n",
      "Iteration  290 : error is  1.0022810568750025\n",
      "Iteration  300 : error is  1.000791789921777\n",
      "Iteration  310 : error is  0.9994299037763391\n",
      "Iteration  320 : error is  0.9981795495698683\n",
      "Iteration  330 : error is  0.9964356210622685\n",
      "Iteration  340 : error is  0.9941893020396124\n",
      "Iteration  350 : error is  0.9930569157967671\n",
      "Iteration  360 : error is  0.9923451215974064\n",
      "Iteration  370 : error is  0.9917951794464335\n",
      "Iteration  380 : error is  0.9913066579921468\n",
      "Iteration  390 : error is  0.9905995487965195\n",
      "Iteration  400 : error is  0.9896234753651224\n",
      "Iteration  410 : error is  0.9883115572566743\n",
      "Iteration  420 : error is  0.9874350346096837\n",
      "Iteration  430 : error is  0.9865701475619578\n",
      "Iteration  440 : error is  0.9852780914189465\n",
      "Iteration  450 : error is  0.9810946028540236\n",
      "Iteration  460 : error is  0.9776204232442034\n",
      "Iteration  470 : error is  0.9754509780937446\n",
      "Iteration  480 : error is  0.9737114551386323\n",
      "Iteration  490 : error is  0.9708496610501767\n",
      "Iteration  500 : error is  0.9692582329639189\n",
      "Iteration  510 : error is  0.9679952975001485\n",
      "Iteration  520 : error is  0.9675895300559589\n",
      "Iteration  530 : error is  0.9673813053254156\n",
      "Iteration  540 : error is  0.9670122121378124\n",
      "Iteration  550 : error is  0.9651362088304654\n",
      "Iteration  560 : error is  0.9637981853510814\n",
      "Iteration  570 : error is  0.9629217576121449\n",
      "Iteration  580 : error is  0.9624095337768576\n",
      "Iteration  590 : error is  0.9622298219591896\n",
      "Iteration  600 : error is  0.9621208794309339\n",
      "Iteration  610 : error is  0.9620182025614914\n",
      "Iteration  620 : error is  0.9619090883995725\n",
      "Iteration  630 : error is  0.9618020278704843\n",
      "Iteration  640 : error is  0.9617010388781178\n",
      "Iteration  650 : error is  0.9615450927178721\n",
      "Iteration  660 : error is  0.961302823708895\n",
      "Iteration  670 : error is  0.9611595777055801\n",
      "Iteration  680 : error is  0.961038505090267\n",
      "Iteration  690 : error is  0.9609426017830238\n",
      "Iteration  700 : error is  0.9608661212412044\n",
      "Iteration  710 : error is  0.9607998038455198\n",
      "Iteration  720 : error is  0.9607276862192539\n",
      "Iteration  730 : error is  0.9605507682390685\n",
      "Iteration  740 : error is  0.9603809902664432\n",
      "Iteration  750 : error is  0.9602525734129185\n",
      "Iteration  760 : error is  0.9601924904726539\n",
      "Iteration  770 : error is  0.9601530145484886\n",
      "Iteration  780 : error is  0.9601213506695281\n",
      "Iteration  790 : error is  0.9600936564080776\n",
      "Iteration  800 : error is  0.9600695512729842\n",
      "Iteration  810 : error is  0.960047332049654\n",
      "Iteration  820 : error is  0.9600271657003117\n",
      "Iteration  830 : error is  0.9600079887224567\n",
      "Iteration  840 : error is  0.9599895818053126\n",
      "Iteration  850 : error is  0.9599716344157297\n",
      "Iteration  860 : error is  0.9599550173212454\n",
      "Iteration  870 : error is  0.9599385759792469\n",
      "Iteration  880 : error is  0.9599223547317257\n",
      "Iteration  890 : error is  0.9599067902084679\n",
      "Iteration  900 : error is  0.9598922421592115\n",
      "Iteration  910 : error is  0.9598778443446255\n",
      "Iteration  920 : error is  0.9598639887167102\n",
      "Iteration  930 : error is  0.9598504196348561\n",
      "Iteration  940 : error is  0.9598370120975079\n",
      "Iteration  950 : error is  0.9598242443009007\n",
      "Iteration  960 : error is  0.9598117730162947\n",
      "Iteration  970 : error is  0.9597996894127108\n",
      "Iteration  980 : error is  0.959788243323677\n",
      "Iteration  990 : error is  0.9597772384593053\n",
      "Iteration  1000 : error is  0.9597664786085454\n"
     ]
    },
    {
     "data": {
      "image/png": "[encoded data removed]",
      "text/plain": [
       "<Figure size 432x288 with 1 Axes>"
      ]
     },
     "metadata": {
      "needs_background": "light"
     },
     "output_type": "display_data"
    }
   ],
   "source": [
    "tsne_plot_GLoVE_representation(W_final, b_final)"
   ]
  },
  {
   "cell_type": "code",
   "execution_count": 41,
   "metadata": {
    "colab": {},
    "colab_type": "code",
    "id": "pw5WKPyntY_O"
   },
   "outputs": [
    {
     "data": {
      "image/png": "[encoded data removed]",
      "text/plain": [
       "<Figure size 432x288 with 1 Axes>"
      ]
     },
     "metadata": {
      "needs_background": "light"
     },
     "output_type": "display_data"
    }
   ],
   "source": [
    "plot_2d_GLoVE_representation(W_final_2d, b_final_2d)"
   ]
  },
  {
   "cell_type": "code",
   "execution_count": 42,
   "metadata": {
    "colab": {},
    "colab_type": "code",
    "id": "MR6DEZvM_0jg"
   },
   "outputs": [
    {
     "name": "stdout",
     "output_type": "stream",
     "text": [
      "Preprocessing the data using PCA...\n",
      "Computing pairwise distances...\n",
      "Computing P-values for point  0  of  250 ...\n",
      "Mean value of sigma:  0.23758683245815349\n",
      "Iteration  10 : error is  11.952849068275395\n",
      "Iteration  20 : error is  10.072489814108208\n",
      "Iteration  30 : error is  10.240766136433244\n",
      "Iteration  40 : error is  10.315490180354617\n",
      "Iteration  50 : error is  10.223435784755065\n",
      "Iteration  60 : error is  10.160110055637556\n",
      "Iteration  70 : error is  10.38697079802501\n",
      "Iteration  80 : error is  10.302439219959684\n",
      "Iteration  90 : error is  10.348012997307949\n",
      "Iteration  100 : error is  10.230723494507563\n",
      "Iteration  110 : error is  0.8575520328850557\n",
      "Iteration  120 : error is  0.4360717962847989\n",
      "Iteration  130 : error is  0.3695850303064407\n",
      "Iteration  140 : error is  0.3543526133379903\n",
      "Iteration  150 : error is  0.34855858343488844\n",
      "Iteration  160 : error is  0.3448011844116776\n",
      "Iteration  170 : error is  0.3416389544395342\n",
      "Iteration  180 : error is  0.3389577719161301\n",
      "Iteration  190 : error is  0.33713867052005614\n",
      "Iteration  200 : error is  0.33600793994791117\n",
      "Iteration  210 : error is  0.3352381343720904\n",
      "Iteration  220 : error is  0.3346825130499132\n",
      "Iteration  230 : error is  0.33432025657715764\n",
      "Iteration  240 : error is  0.33405578730771335\n",
      "Iteration  250 : error is  0.333852646523195\n",
      "Iteration  260 : error is  0.3337071093684675\n",
      "Iteration  270 : error is  0.3335946763825081\n",
      "Iteration  280 : error is  0.33350562318773114\n",
      "Iteration  290 : error is  0.3334348418900281\n",
      "Iteration  300 : error is  0.3333751858796114\n",
      "Iteration  310 : error is  0.33332494361858883\n",
      "Iteration  320 : error is  0.33328241626654354\n",
      "Iteration  330 : error is  0.33324716203183924\n",
      "Iteration  340 : error is  0.33321832454789047\n",
      "Iteration  350 : error is  0.3331940026566333\n",
      "Iteration  360 : error is  0.33317227921962644\n",
      "Iteration  370 : error is  0.33315387094346527\n",
      "Iteration  380 : error is  0.33313802128258513\n",
      "Iteration  390 : error is  0.3331239953639341\n",
      "Iteration  400 : error is  0.333111775989638\n",
      "Iteration  410 : error is  0.33310160114538734\n",
      "Iteration  420 : error is  0.33309303315469513\n",
      "Iteration  430 : error is  0.33308510398056657\n",
      "Iteration  440 : error is  0.33307787237170006\n",
      "Iteration  450 : error is  0.33307176949413253\n",
      "Iteration  460 : error is  0.33306648720348225\n",
      "Iteration  470 : error is  0.3330616576084383\n",
      "Iteration  480 : error is  0.3330574188836746\n",
      "Iteration  490 : error is  0.3330535350023135\n",
      "Iteration  500 : error is  0.3330499655729703\n",
      "Iteration  510 : error is  0.33304685857552224\n",
      "Iteration  520 : error is  0.3330440799314986\n",
      "Iteration  530 : error is  0.3330416088072944\n",
      "Iteration  540 : error is  0.33303941798718234\n",
      "Iteration  550 : error is  0.33303744883828157\n",
      "Iteration  560 : error is  0.3330356978676383\n",
      "Iteration  570 : error is  0.3330340660957981\n",
      "Iteration  580 : error is  0.3330326276071611\n",
      "Iteration  590 : error is  0.3330313381526477\n",
      "Iteration  600 : error is  0.33303014761995825\n",
      "Iteration  610 : error is  0.3330290808860729\n",
      "Iteration  620 : error is  0.33302815604452046\n",
      "Iteration  630 : error is  0.3330272974875821\n",
      "Iteration  640 : error is  0.3330265518115461\n",
      "Iteration  650 : error is  0.3330258772548031\n",
      "Iteration  660 : error is  0.33302524101356296\n",
      "Iteration  670 : error is  0.33302466806050574\n",
      "Iteration  680 : error is  0.3330241596447631\n",
      "Iteration  690 : error is  0.3330236837753303\n",
      "Iteration  700 : error is  0.33302325533080496\n",
      "Iteration  710 : error is  0.3330228689286132\n",
      "Iteration  720 : error is  0.33302251635571034\n",
      "Iteration  730 : error is  0.33302219130587324\n",
      "Iteration  740 : error is  0.3330219013341041\n",
      "Iteration  750 : error is  0.3330216457550098\n",
      "Iteration  760 : error is  0.3330214133896957\n",
      "Iteration  770 : error is  0.3330212010776188\n",
      "Iteration  780 : error is  0.33302100890110614\n",
      "Iteration  790 : error is  0.3330208330531118\n",
      "Iteration  800 : error is  0.3330206741738697\n",
      "Iteration  810 : error is  0.3330205286532082\n",
      "Iteration  820 : error is  0.3330203945633143\n",
      "Iteration  830 : error is  0.3330202759384618\n",
      "Iteration  840 : error is  0.3330201670375554\n",
      "Iteration  850 : error is  0.33302006608830326\n",
      "Iteration  860 : error is  0.33301997774365616\n",
      "Iteration  870 : error is  0.33301989272625265\n",
      "Iteration  880 : error is  0.333019816704394\n",
      "Iteration  890 : error is  0.333019748262957\n",
      "Iteration  900 : error is  0.3330196855167712\n",
      "Iteration  910 : error is  0.33301962774246463\n",
      "Iteration  920 : error is  0.3330195758463576\n",
      "Iteration  930 : error is  0.33301952841295207\n",
      "Iteration  940 : error is  0.33301948363692924\n",
      "Iteration  950 : error is  0.33301944522316823\n",
      "Iteration  960 : error is  0.3330194102577845\n",
      "Iteration  970 : error is  0.33301937715370733\n",
      "Iteration  980 : error is  0.3330193474001779\n",
      "Iteration  990 : error is  0.3330193209096044\n",
      "Iteration  1000 : error is  0.3330192960089208\n"
     ]
    },
    {
     "data": {
      "image/png": "[encoded data removed]",
      "text/plain": [
       "<Figure size 432x288 with 1 Axes>"
      ]
     },
     "metadata": {
      "needs_background": "light"
     },
     "output_type": "display_data"
    }
   ],
   "source": [
    "tsne_plot_GLoVE_representation(W_final_2d, b_final_2d)"
   ]
  },
  {
   "cell_type": "markdown",
   "metadata": {
    "colab_type": "text",
    "id": "d3RzXTTzsdy9"
   },
   "source": [
    "# What you have to submit\n",
    "\n",
    "For reference, here is everything you need to hand in. See the top of this handout for submission\n",
    "directions.\n",
    "\n",
    "\n",
    "\n",
    "*   A PDF file titled *a1-writeup.pdf* containing the following:\n",
    "Both questions from Part 2, the output of *print_gradients()*, answers to all four questions from Part 3.\n",
    "*   Your code file *language_model.ipynb*\n"
   ]
  },
  {
   "cell_type": "code",
   "execution_count": null,
   "metadata": {},
   "outputs": [],
   "source": []
  }
 ],
 "metadata": {
  "accelerator": "GPU",
  "colab": {
   "collapsed_sections": [],
   "name": "language_model.ipynb",
   "provenance": [],
   "toc_visible": true
  },
  "kernelspec": {
   "display_name": "Python 3",
   "language": "python",
   "name": "python3"
  },
  "language_info": {
   "codemirror_mode": {
    "name": "ipython",
    "version": 3
   },
   "file_extension": ".py",
   "mimetype": "text/x-python",
   "name": "python",
   "nbconvert_exporter": "python",
   "pygments_lexer": "ipython3",
   "version": "3.7.2"
  }
 },
 "nbformat": 4,
 "nbformat_minor": 1
}
