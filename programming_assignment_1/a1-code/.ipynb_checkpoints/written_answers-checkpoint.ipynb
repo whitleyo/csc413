{
 "cells": [
  {
   "cell_type": "markdown",
   "metadata": {},
   "source": [
    "# Part 1: GloVE\n",
    "\n",
    "\n",
    "1. \n",
    "GloVE attempts to find a linear embedding W of d dimensions s.t. W[i,:] * W'[:,j] = log(X[i,j]), where X is the co-occurence matrix of words i and j in vocabulary V.\n",
    "\n",
    "The matrix W is V x d dimensional, and thus there are Vxd trainable parameters"
   ]
  }
 ],
 "metadata": {
  "kernelspec": {
   "display_name": "Python 3",
   "language": "python",
   "name": "python3"
  },
  "language_info": {
   "codemirror_mode": {
    "name": "ipython",
    "version": 3
   },
   "file_extension": ".py",
   "mimetype": "text/x-python",
   "name": "python",
   "nbconvert_exporter": "python",
   "pygments_lexer": "ipython3",
   "version": "3.7.2"
  }
 },
 "nbformat": 4,
 "nbformat_minor": 2
}
